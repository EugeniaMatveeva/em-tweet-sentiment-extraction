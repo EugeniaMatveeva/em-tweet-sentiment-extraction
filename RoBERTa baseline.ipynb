{
 "cells": [
  {
   "cell_type": "markdown",
   "metadata": {},
   "source": [
    "# tweet-sentiment-extraction: RoBERTa baseline"
   ]
  },
  {
   "cell_type": "markdown",
   "metadata": {},
   "source": [
    "## Support"
   ]
  },
  {
   "cell_type": "markdown",
   "metadata": {},
   "source": [
    "### Imports"
   ]
  },
  {
   "cell_type": "code",
   "execution_count": 1,
   "metadata": {
    "ExecuteTime": {
     "end_time": "2020-06-06T12:21:12.764259Z",
     "start_time": "2020-06-06T12:21:11.971428Z"
    }
   },
   "outputs": [],
   "source": [
    "import os\n",
    "import sys\n",
    "import time\n",
    "import itertools\n",
    "import functools\n",
    "\n",
    "import numpy as np\n",
    "import pandas as pd\n",
    "pd.set_option('display.max_columns', 200)\n",
    "\n",
    "import matplotlib as mpl\n",
    "import matplotlib.pyplot as plt\n",
    "import seaborn as sns\n",
    "from cycler import cycler\n",
    "plt.style.use('ggplot')\n",
    "mpl.rcParams['axes.titlesize'] = 18\n",
    "mpl.rcParams['axes.facecolor'] = 'white'\n",
    "mpl.rcParams['grid.color'] = 'grey'\n",
    "mpl.rcParams['grid.linestyle'] = 'dashed'\n",
    "mpl.rcParams['axes.edgecolor'] = 'black'\n",
    "mpl.rcParams['patch.linewidth'] = 1\n",
    "mpl.rcParams['patch.edgecolor'] = 'black'\n",
    "mpl.rcParams['patch.force_edgecolor'] = True\n",
    "mpl.rcParams['axes.prop_cycle'] = cycler(color=['#1f77b4', '#ff7f0e', '#2ca02c',\n",
    "                                                '#d62728', '#9467bd', '#8c564b', \n",
    "                                                '#e377c2', '#7f7f7f', '#bcbd22', \n",
    "                                                '#17becf'])\n",
    "%matplotlib inline"
   ]
  },
  {
   "cell_type": "code",
   "execution_count": 2,
   "metadata": {
    "ExecuteTime": {
     "end_time": "2020-06-06T12:21:13.302263Z",
     "start_time": "2020-06-06T12:21:12.765533Z"
    }
   },
   "outputs": [],
   "source": [
    "import torch\n",
    "from torch import nn"
   ]
  },
  {
   "cell_type": "markdown",
   "metadata": {},
   "source": [
    " "
   ]
  },
  {
   "cell_type": "markdown",
   "metadata": {},
   "source": [
    "### Constants"
   ]
  },
  {
   "cell_type": "code",
   "execution_count": 3,
   "metadata": {
    "ExecuteTime": {
     "end_time": "2020-06-06T12:21:13.305837Z",
     "start_time": "2020-06-06T12:21:13.303588Z"
    }
   },
   "outputs": [],
   "source": [
    "SEED = 42"
   ]
  },
  {
   "cell_type": "markdown",
   "metadata": {},
   "source": [
    " "
   ]
  },
  {
   "cell_type": "markdown",
   "metadata": {},
   "source": [
    "### Functions"
   ]
  },
  {
   "cell_type": "code",
   "execution_count": 4,
   "metadata": {
    "ExecuteTime": {
     "end_time": "2020-06-06T12:21:13.312142Z",
     "start_time": "2020-06-06T12:21:13.307150Z"
    }
   },
   "outputs": [],
   "source": [
    "def df_merge_reduce(df_list, how='inner', keys=None):\n",
    "    \"\"\"Recursively merge list of pandas dataframes.\"\"\"\n",
    "\n",
    "    return functools.reduce(\n",
    "        lambda df1, df2: pd.merge(\n",
    "            left=df1,\n",
    "            right=df2,\n",
    "            how=how,\n",
    "            on=keys,\n",
    "            left_index=True if keys is None else False,\n",
    "            right_index=True if keys is None else False\n",
    "        ),\n",
    "        df_list\n",
    "    )"
   ]
  },
  {
   "cell_type": "code",
   "execution_count": 5,
   "metadata": {
    "ExecuteTime": {
     "end_time": "2020-06-06T12:21:13.322451Z",
     "start_time": "2020-06-06T12:21:13.313269Z"
    }
   },
   "outputs": [],
   "source": [
    "def df_summary(df, ps=np.arange(0.1,1,0.1)):\n",
    "    \"\"\"\n",
    "    Enhance dataframe describe method output with additional statistics.\n",
    "    \"\"\"\n",
    "    \n",
    "    summary = df_merge_reduce([\n",
    "        pd.DataFrame(df.dtypes, columns=['dtype']),\n",
    "        pd.DataFrame(df.isna().sum(), columns=['nan_count']),\n",
    "        pd.DataFrame(df.isna().sum()/\n",
    "                     df.shape[0], columns=['nan_frac']),\n",
    "        pd.DataFrame((df == 0).sum(), columns=['zero_count']),\n",
    "        pd.DataFrame((df == 0).sum()/\n",
    "                     df.shape[0], columns=['zero_frac']),\n",
    "        pd.DataFrame(df.nunique(), columns=['nunique']),\n",
    "        df.describe(include='all', percentiles=ps).T,\n",
    "    ])\n",
    "    \n",
    "    return summary"
   ]
  },
  {
   "cell_type": "markdown",
   "metadata": {},
   "source": [
    " "
   ]
  },
  {
   "cell_type": "markdown",
   "metadata": {},
   "source": [
    "### Random seed"
   ]
  },
  {
   "cell_type": "code",
   "execution_count": 6,
   "metadata": {
    "ExecuteTime": {
     "end_time": "2020-06-06T12:21:13.328979Z",
     "start_time": "2020-06-06T12:21:13.323576Z"
    }
   },
   "outputs": [],
   "source": [
    "import random\n",
    "\n",
    "def seed_everything(seed_value):\n",
    "    random.seed(seed_value)\n",
    "    np.random.seed(seed_value)\n",
    "    torch.manual_seed(seed_value)\n",
    "    os.environ['PYTHONHASHSEED'] = str(seed_value)\n",
    "    \n",
    "    if torch.cuda.is_available(): \n",
    "        torch.cuda.manual_seed(seed_value)\n",
    "        torch.cuda.manual_seed_all(seed_value)\n",
    "        torch.backends.cudnn.deterministic = True\n",
    "        torch.backends.cudnn.benchmark = True"
   ]
  },
  {
   "cell_type": "code",
   "execution_count": 7,
   "metadata": {
    "ExecuteTime": {
     "end_time": "2020-06-06T12:21:13.349085Z",
     "start_time": "2020-06-06T12:21:13.329957Z"
    }
   },
   "outputs": [],
   "source": [
    "seed_everything(SEED)"
   ]
  },
  {
   "cell_type": "markdown",
   "metadata": {},
   "source": [
    " "
   ]
  },
  {
   "cell_type": "markdown",
   "metadata": {},
   "source": [
    "***"
   ]
  },
  {
   "cell_type": "markdown",
   "metadata": {},
   "source": [
    "## Data"
   ]
  },
  {
   "cell_type": "markdown",
   "metadata": {},
   "source": [
    "### Load data"
   ]
  },
  {
   "cell_type": "code",
   "execution_count": 8,
   "metadata": {
    "ExecuteTime": {
     "end_time": "2020-06-06T12:21:13.353067Z",
     "start_time": "2020-06-06T12:21:13.351111Z"
    }
   },
   "outputs": [],
   "source": [
    "DATA_DIR = './data'"
   ]
  },
  {
   "cell_type": "code",
   "execution_count": 9,
   "metadata": {
    "ExecuteTime": {
     "end_time": "2020-06-06T12:21:13.427020Z",
     "start_time": "2020-06-06T12:21:13.354685Z"
    }
   },
   "outputs": [],
   "source": [
    "converters={'text': lambda x: str(x), 'selected_text': lambda x: str(x)}\n",
    "train = pd.read_csv(os.path.join(DATA_DIR, 'train.csv'), converters=converters)\n",
    "test = pd.read_csv(os.path.join(DATA_DIR, 'test.csv'), converters=converters)\n",
    "sample_sub = pd.read_csv(os.path.join(DATA_DIR, 'sample_submission.csv'))"
   ]
  },
  {
   "cell_type": "code",
   "execution_count": 10,
   "metadata": {
    "ExecuteTime": {
     "end_time": "2020-06-06T12:21:13.450244Z",
     "start_time": "2020-06-06T12:21:13.428134Z"
    }
   },
   "outputs": [
    {
     "data": {
      "text/plain": [
       "(27480, 4)"
      ]
     },
     "execution_count": 10,
     "metadata": {},
     "output_type": "execute_result"
    }
   ],
   "source": [
    "train = train[train.text != ''].reset_index(drop=True)\n",
    "train.shape"
   ]
  },
  {
   "cell_type": "code",
   "execution_count": 11,
   "metadata": {
    "ExecuteTime": {
     "end_time": "2020-06-06T12:21:13.456395Z",
     "start_time": "2020-06-06T12:21:13.452125Z"
    }
   },
   "outputs": [
    {
     "data": {
      "text/plain": [
       "(3534, 3)"
      ]
     },
     "execution_count": 11,
     "metadata": {},
     "output_type": "execute_result"
    }
   ],
   "source": [
    "test.shape"
   ]
  },
  {
   "cell_type": "code",
   "execution_count": 12,
   "metadata": {
    "ExecuteTime": {
     "end_time": "2020-06-06T12:21:13.579223Z",
     "start_time": "2020-06-06T12:21:13.457296Z"
    }
   },
   "outputs": [
    {
     "data": {
      "text/html": [
       "<style  type=\"text/css\" >\n",
       "</style><table id=\"T_36737f34_a7f0_11ea_9654_30243297a86f\" ><thead>    <tr>        <th class=\"blank level0\" ></th>        <th class=\"col_heading level0 col0\" >textID</th>        <th class=\"col_heading level0 col1\" >text</th>        <th class=\"col_heading level0 col2\" >selected_text</th>        <th class=\"col_heading level0 col3\" >sentiment</th>    </tr></thead><tbody>\n",
       "                <tr>\n",
       "                        <th id=\"T_36737f34_a7f0_11ea_9654_30243297a86flevel0_row0\" class=\"row_heading level0 row0\" >0</th>\n",
       "                        <td id=\"T_36737f34_a7f0_11ea_9654_30243297a86frow0_col0\" class=\"data row0 col0\" >cb774db0d1</td>\n",
       "                        <td id=\"T_36737f34_a7f0_11ea_9654_30243297a86frow0_col1\" class=\"data row0 col1\" > I`d have responded, if I were going</td>\n",
       "                        <td id=\"T_36737f34_a7f0_11ea_9654_30243297a86frow0_col2\" class=\"data row0 col2\" >I`d have responded, if I were going</td>\n",
       "                        <td id=\"T_36737f34_a7f0_11ea_9654_30243297a86frow0_col3\" class=\"data row0 col3\" >neutral</td>\n",
       "            </tr>\n",
       "            <tr>\n",
       "                        <th id=\"T_36737f34_a7f0_11ea_9654_30243297a86flevel0_row1\" class=\"row_heading level0 row1\" >1</th>\n",
       "                        <td id=\"T_36737f34_a7f0_11ea_9654_30243297a86frow1_col0\" class=\"data row1 col0\" >549e992a42</td>\n",
       "                        <td id=\"T_36737f34_a7f0_11ea_9654_30243297a86frow1_col1\" class=\"data row1 col1\" > Sooo SAD I will miss you here in San Diego!!!</td>\n",
       "                        <td id=\"T_36737f34_a7f0_11ea_9654_30243297a86frow1_col2\" class=\"data row1 col2\" >Sooo SAD</td>\n",
       "                        <td id=\"T_36737f34_a7f0_11ea_9654_30243297a86frow1_col3\" class=\"data row1 col3\" >negative</td>\n",
       "            </tr>\n",
       "            <tr>\n",
       "                        <th id=\"T_36737f34_a7f0_11ea_9654_30243297a86flevel0_row2\" class=\"row_heading level0 row2\" >2</th>\n",
       "                        <td id=\"T_36737f34_a7f0_11ea_9654_30243297a86frow2_col0\" class=\"data row2 col0\" >088c60f138</td>\n",
       "                        <td id=\"T_36737f34_a7f0_11ea_9654_30243297a86frow2_col1\" class=\"data row2 col1\" >my boss is bullying me...</td>\n",
       "                        <td id=\"T_36737f34_a7f0_11ea_9654_30243297a86frow2_col2\" class=\"data row2 col2\" >bullying me</td>\n",
       "                        <td id=\"T_36737f34_a7f0_11ea_9654_30243297a86frow2_col3\" class=\"data row2 col3\" >negative</td>\n",
       "            </tr>\n",
       "            <tr>\n",
       "                        <th id=\"T_36737f34_a7f0_11ea_9654_30243297a86flevel0_row3\" class=\"row_heading level0 row3\" >3</th>\n",
       "                        <td id=\"T_36737f34_a7f0_11ea_9654_30243297a86frow3_col0\" class=\"data row3 col0\" >9642c003ef</td>\n",
       "                        <td id=\"T_36737f34_a7f0_11ea_9654_30243297a86frow3_col1\" class=\"data row3 col1\" > what interview! leave me alone</td>\n",
       "                        <td id=\"T_36737f34_a7f0_11ea_9654_30243297a86frow3_col2\" class=\"data row3 col2\" >leave me alone</td>\n",
       "                        <td id=\"T_36737f34_a7f0_11ea_9654_30243297a86frow3_col3\" class=\"data row3 col3\" >negative</td>\n",
       "            </tr>\n",
       "            <tr>\n",
       "                        <th id=\"T_36737f34_a7f0_11ea_9654_30243297a86flevel0_row4\" class=\"row_heading level0 row4\" >4</th>\n",
       "                        <td id=\"T_36737f34_a7f0_11ea_9654_30243297a86frow4_col0\" class=\"data row4 col0\" >358bd9e861</td>\n",
       "                        <td id=\"T_36737f34_a7f0_11ea_9654_30243297a86frow4_col1\" class=\"data row4 col1\" > Sons of ****, why couldn`t they put them on the releases we already bought</td>\n",
       "                        <td id=\"T_36737f34_a7f0_11ea_9654_30243297a86frow4_col2\" class=\"data row4 col2\" >Sons of ****,</td>\n",
       "                        <td id=\"T_36737f34_a7f0_11ea_9654_30243297a86frow4_col3\" class=\"data row4 col3\" >negative</td>\n",
       "            </tr>\n",
       "    </tbody></table>"
      ],
      "text/plain": [
       "<pandas.io.formats.style.Styler at 0x7f3784150d90>"
      ]
     },
     "execution_count": 12,
     "metadata": {},
     "output_type": "execute_result"
    }
   ],
   "source": [
    "train.head().style"
   ]
  },
  {
   "cell_type": "markdown",
   "metadata": {},
   "source": [
    " "
   ]
  },
  {
   "cell_type": "markdown",
   "metadata": {},
   "source": [
    "### EDA"
   ]
  },
  {
   "cell_type": "code",
   "execution_count": 13,
   "metadata": {
    "ExecuteTime": {
     "end_time": "2020-06-06T12:21:13.601906Z",
     "start_time": "2020-06-06T12:21:13.580386Z"
    }
   },
   "outputs": [
    {
     "data": {
      "text/html": [
       "<div>\n",
       "<style scoped>\n",
       "    .dataframe tbody tr th:only-of-type {\n",
       "        vertical-align: middle;\n",
       "    }\n",
       "\n",
       "    .dataframe tbody tr th {\n",
       "        vertical-align: top;\n",
       "    }\n",
       "\n",
       "    .dataframe thead th {\n",
       "        text-align: right;\n",
       "    }\n",
       "</style>\n",
       "<table border=\"1\" class=\"dataframe\">\n",
       "  <thead>\n",
       "    <tr style=\"text-align: right;\">\n",
       "      <th></th>\n",
       "      <th>sent_count</th>\n",
       "      <th>sent_frac</th>\n",
       "    </tr>\n",
       "    <tr>\n",
       "      <th>sentiment</th>\n",
       "      <th></th>\n",
       "      <th></th>\n",
       "    </tr>\n",
       "  </thead>\n",
       "  <tbody>\n",
       "    <tr>\n",
       "      <th>negative</th>\n",
       "      <td>7781</td>\n",
       "      <td>0.28</td>\n",
       "    </tr>\n",
       "    <tr>\n",
       "      <th>neutral</th>\n",
       "      <td>11117</td>\n",
       "      <td>0.40</td>\n",
       "    </tr>\n",
       "    <tr>\n",
       "      <th>positive</th>\n",
       "      <td>8582</td>\n",
       "      <td>0.31</td>\n",
       "    </tr>\n",
       "  </tbody>\n",
       "</table>\n",
       "</div>"
      ],
      "text/plain": [
       "           sent_count  sent_frac\n",
       "sentiment                       \n",
       "negative         7781       0.28\n",
       "neutral         11117       0.40\n",
       "positive         8582       0.31"
      ]
     },
     "execution_count": 13,
     "metadata": {},
     "output_type": "execute_result"
    }
   ],
   "source": [
    "train.groupby('sentiment').agg(\n",
    "    sent_count=('sentiment', 'count'),\n",
    "    sent_frac=('sentiment', lambda x: np.around(x.shape[0] / train.shape[0], 2)),\n",
    ")"
   ]
  },
  {
   "cell_type": "markdown",
   "metadata": {},
   "source": [
    " "
   ]
  },
  {
   "cell_type": "code",
   "execution_count": 14,
   "metadata": {
    "ExecuteTime": {
     "end_time": "2020-06-06T12:21:13.970493Z",
     "start_time": "2020-06-06T12:21:13.602814Z"
    }
   },
   "outputs": [
    {
     "data": {
      "image/png": "[encoded data removed]",
      "text/plain": [
       "<Figure size 1080x360 with 1 Axes>"
      ]
     },
     "metadata": {
      "needs_background": "light"
     },
     "output_type": "display_data"
    }
   ],
   "source": [
    "train[['text', 'selected_text']].applymap(len).plot(\n",
    "    kind='hist', stacked=False, alpha=0.5, bins=50, figsize=(15, 5), title='Text length'\n",
    ");"
   ]
  },
  {
   "cell_type": "markdown",
   "metadata": {},
   "source": [
    " "
   ]
  },
  {
   "cell_type": "markdown",
   "metadata": {},
   "source": [
    "***"
   ]
  },
  {
   "cell_type": "markdown",
   "metadata": {},
   "source": [
    "## Preprocessing"
   ]
  },
  {
   "cell_type": "markdown",
   "metadata": {},
   "source": [
    "### RoBERTa"
   ]
  },
  {
   "cell_type": "markdown",
   "metadata": {},
   "source": [
    "#### Load model and tokenizer"
   ]
  },
  {
   "cell_type": "code",
   "execution_count": 15,
   "metadata": {
    "ExecuteTime": {
     "end_time": "2020-06-06T12:21:14.345952Z",
     "start_time": "2020-06-06T12:21:13.972713Z"
    }
   },
   "outputs": [],
   "source": [
    "from transformers import RobertaModel, RobertaTokenizer, RobertaForQuestionAnswering, RobertaConfig\n",
    "from tokenizers import ByteLevelBPETokenizer"
   ]
  },
  {
   "cell_type": "code",
   "execution_count": 16,
   "metadata": {
    "ExecuteTime": {
     "end_time": "2020-06-06T12:21:14.349627Z",
     "start_time": "2020-06-06T12:21:14.347075Z"
    }
   },
   "outputs": [],
   "source": [
    "MODEL_TYPE = 'roberta-base'\n",
    "MODEL_PATH = './data/pretrained_roberta/'\n",
    "TOKENIZER_PATH = './data/pretrained_roberta_tokenizer/'\n",
    "VOCAB_PATH = './data/pretrained_roberta_tokenizer/vocab.json'\n",
    "MERGES_PATH = './data/pretrained_roberta_tokenizer/merges.txt'"
   ]
  },
  {
   "cell_type": "code",
   "execution_count": 17,
   "metadata": {
    "ExecuteTime": {
     "end_time": "2020-06-06T12:21:14.355930Z",
     "start_time": "2020-06-06T12:21:14.350870Z"
    }
   },
   "outputs": [],
   "source": [
    "os.makedirs(MODEL_PATH, exist_ok=True)\n",
    "os.makedirs(TOKENIZER_PATH, exist_ok=True)"
   ]
  },
  {
   "cell_type": "code",
   "execution_count": 18,
   "metadata": {
    "ExecuteTime": {
     "end_time": "2020-06-06T12:21:14.361543Z",
     "start_time": "2020-06-06T12:21:14.357073Z"
    }
   },
   "outputs": [],
   "source": [
    "# tokenizer = RobertaTokenizer.from_pretrained(MODEL_TYPE)"
   ]
  },
  {
   "cell_type": "code",
   "execution_count": 19,
   "metadata": {
    "ExecuteTime": {
     "end_time": "2020-06-06T12:21:14.367733Z",
     "start_time": "2020-06-06T12:21:14.362641Z"
    }
   },
   "outputs": [],
   "source": [
    "# roberta_config = RobertaConfig.from_pretrained(MODEL_TYPE, output_hidden_states=True)\n",
    "# roberta = RobertaModel.from_pretrained(MODEL_TYPE, config=roberta_config)"
   ]
  },
  {
   "cell_type": "code",
   "execution_count": 20,
   "metadata": {
    "ExecuteTime": {
     "end_time": "2020-06-06T12:21:14.373953Z",
     "start_time": "2020-06-06T12:21:14.368839Z"
    }
   },
   "outputs": [],
   "source": [
    "# tokenizer.save_pretrained(TOKENIZER_PATH)\n",
    "# roberta.save_pretrained(MODEL_PATH)"
   ]
  },
  {
   "cell_type": "code",
   "execution_count": 21,
   "metadata": {
    "ExecuteTime": {
     "end_time": "2020-06-06T12:21:17.911179Z",
     "start_time": "2020-06-06T12:21:14.375211Z"
    }
   },
   "outputs": [],
   "source": [
    "tokenizer = RobertaTokenizer.from_pretrained(TOKENIZER_PATH)\n",
    "# tokenizer = ByteLevelBPETokenizer(\n",
    "#     vocab_file=VOCAB_PATH, \n",
    "#     merges_file=MERGES_PATH, \n",
    "#     lowercase=True,\n",
    "#     add_prefix_space=True\n",
    "# )\n",
    "roberta = RobertaModel.from_pretrained(MODEL_PATH)"
   ]
  },
  {
   "cell_type": "markdown",
   "metadata": {},
   "source": [
    " "
   ]
  },
  {
   "cell_type": "markdown",
   "metadata": {},
   "source": [
    "#### Tokenizer demo"
   ]
  },
  {
   "cell_type": "code",
   "execution_count": 22,
   "metadata": {
    "ExecuteTime": {
     "end_time": "2020-06-06T12:21:17.916096Z",
     "start_time": "2020-06-06T12:21:17.912116Z"
    }
   },
   "outputs": [
    {
     "data": {
      "text/plain": [
       "{'input_ids': [[0, 38, 12905, 417, 33, 2334, 6, 114, 38, 58, 164, 2, 1, 1, 1], [0, 407, 3036, 208, 2606, 38, 40, 2649, 47, 259, 11, 764, 3402, 16506, 2], [0, 127, 3504, 16, 11902, 162, 734, 2, 1, 1, 1, 1, 1, 1, 1]], 'attention_mask': [[1, 1, 1, 1, 1, 1, 1, 1, 1, 1, 1, 1, 0, 0, 0], [1, 1, 1, 1, 1, 1, 1, 1, 1, 1, 1, 1, 1, 1, 1], [1, 1, 1, 1, 1, 1, 1, 1, 0, 0, 0, 0, 0, 0, 0]]}"
      ]
     },
     "execution_count": 22,
     "metadata": {},
     "output_type": "execute_result"
    }
   ],
   "source": [
    "test_items = tokenizer.batch_encode_plus(train.text[:3], pad_to_max_length=True)\n",
    "test_items"
   ]
  },
  {
   "cell_type": "code",
   "execution_count": 23,
   "metadata": {
    "ExecuteTime": {
     "end_time": "2020-06-06T12:21:17.922247Z",
     "start_time": "2020-06-06T12:21:17.918636Z"
    }
   },
   "outputs": [
    {
     "data": {
      "text/plain": [
       "[' neutral', ' negative', ' positive']"
      ]
     },
     "execution_count": 23,
     "metadata": {},
     "output_type": "execute_result"
    }
   ],
   "source": [
    "sents_w_space = list(map(lambda x: ' ' + x, train.sentiment.unique()))\n",
    "sents_w_space"
   ]
  },
  {
   "cell_type": "code",
   "execution_count": 24,
   "metadata": {
    "ExecuteTime": {
     "end_time": "2020-06-06T12:21:17.928445Z",
     "start_time": "2020-06-06T12:21:17.923758Z"
    }
   },
   "outputs": [
    {
     "data": {
      "text/plain": [
       "[7974, 2430, 1313]"
      ]
     },
     "execution_count": 24,
     "metadata": {},
     "output_type": "execute_result"
    }
   ],
   "source": [
    "SENT_IDS = [tokenizer.encode(s, add_special_tokens=False)[0] for s in sents_w_space]\n",
    "SENT_IDS"
   ]
  },
  {
   "cell_type": "code",
   "execution_count": 25,
   "metadata": {
    "ExecuteTime": {
     "end_time": "2020-06-06T12:21:17.936427Z",
     "start_time": "2020-06-06T12:21:17.929571Z"
    }
   },
   "outputs": [
    {
     "name": "stdout",
     "output_type": "stream",
     "text": [
      "positive</s></s>4am. And Im on the beach. Pretty\n",
      "\n",
      "[0, 1313, 2, 2, 306, 424, 4, 178, 5902, 15, 5, 4105, 4, 20560, 2]\n"
     ]
    }
   ],
   "source": [
    "print(train.sentiment[100] + \n",
    "      2 * tokenizer.special_tokens_map['eos_token'] + \n",
    "      train.text[100])\n",
    "print()\n",
    "print(tokenizer.encode(train.sentiment[100] + \n",
    "                       2 * tokenizer.special_tokens_map['eos_token'] + \n",
    "                       train.text[100], do_lower_case=True, add_prefix_space=True))"
   ]
  },
  {
   "cell_type": "code",
   "execution_count": 26,
   "metadata": {
    "ExecuteTime": {
     "end_time": "2020-06-06T12:21:17.944408Z",
     "start_time": "2020-06-06T12:21:17.937753Z"
    }
   },
   "outputs": [
    {
     "name": "stdout",
     "output_type": "stream",
     "text": [
      "positive</s></s> 4am. and im on the beach. pretty\n",
      "\n",
      "[0, 1313, 2, 2, 204, 424, 4, 8, 4356, 15, 5, 4105, 4, 1256, 2]\n"
     ]
    }
   ],
   "source": [
    "print(train.sentiment[100] + \n",
    "      2 * tokenizer.special_tokens_map['eos_token'] + \n",
    "      ' ' + ' '.join(train.text[100].lower().split()))\n",
    "print()\n",
    "print(tokenizer.encode(train.sentiment[100] + \n",
    "                       2 * tokenizer.special_tokens_map['eos_token'] + \n",
    "                       ' ' + ' '.join(train.text[100].lower().split()), add_prefix_space=True))"
   ]
  },
  {
   "cell_type": "markdown",
   "metadata": {},
   "source": [
    " "
   ]
  },
  {
   "cell_type": "markdown",
   "metadata": {},
   "source": [
    "### Prepare text for tokenization"
   ]
  },
  {
   "cell_type": "code",
   "execution_count": 27,
   "metadata": {
    "ExecuteTime": {
     "end_time": "2020-06-06T12:21:17.954726Z",
     "start_time": "2020-06-06T12:21:17.945787Z"
    }
   },
   "outputs": [],
   "source": [
    "train['orig_text'] = train.text\n",
    "train['orig_selected_text'] = train.selected_text\n",
    "test['orig_text'] = test.text"
   ]
  },
  {
   "cell_type": "code",
   "execution_count": 28,
   "metadata": {
    "ExecuteTime": {
     "end_time": "2020-06-06T12:21:17.960852Z",
     "start_time": "2020-06-06T12:21:17.955894Z"
    }
   },
   "outputs": [],
   "source": [
    "def prep_text(row, tokenizer):\n",
    "    return row.sentiment + \\\n",
    "        2 * tokenizer.special_tokens_map['eos_token'] + \\\n",
    "        ' ' + ' '.join(row.text.lower().split())"
   ]
  },
  {
   "cell_type": "code",
   "execution_count": 29,
   "metadata": {
    "ExecuteTime": {
     "end_time": "2020-06-06T12:21:18.885462Z",
     "start_time": "2020-06-06T12:21:17.963026Z"
    }
   },
   "outputs": [],
   "source": [
    "train['text'] = train.apply(lambda row: prep_text(row, tokenizer), axis=1)\n",
    "test['text'] = test.apply(lambda row: prep_text(row, tokenizer), axis=1)"
   ]
  },
  {
   "cell_type": "code",
   "execution_count": 30,
   "metadata": {
    "ExecuteTime": {
     "end_time": "2020-06-06T12:21:19.284247Z",
     "start_time": "2020-06-06T12:21:18.886455Z"
    }
   },
   "outputs": [],
   "source": [
    "train['selected_text'] = train.apply(\n",
    "    lambda row: ' ' + ' '.join(row.selected_text.lower().split()), axis=1\n",
    ")"
   ]
  },
  {
   "cell_type": "code",
   "execution_count": 31,
   "metadata": {
    "ExecuteTime": {
     "end_time": "2020-06-06T12:21:19.289077Z",
     "start_time": "2020-06-06T12:21:19.285510Z"
    }
   },
   "outputs": [
    {
     "data": {
      "text/plain": [
       "('positive</s></s> 4am. and im on the beach. pretty',\n",
       " 'neutral</s></s> oooh, sunshine! a patch of sunshine! and it will be gone by the time i leave work and replaced with rain. /vent')"
      ]
     },
     "execution_count": 31,
     "metadata": {},
     "output_type": "execute_result"
    }
   ],
   "source": [
    "train.text.iloc[100], test.text.iloc[100]"
   ]
  },
  {
   "cell_type": "code",
   "execution_count": 32,
   "metadata": {
    "ExecuteTime": {
     "end_time": "2020-06-06T12:21:19.299800Z",
     "start_time": "2020-06-06T12:21:19.290152Z"
    }
   },
   "outputs": [
    {
     "name": "stdout",
     "output_type": "stream",
     "text": [
      "['neutral</s></s> i`d have responded, if i were going', 'negative</s></s> sooo sad i will miss you here in san diego!!!', 'negative</s></s> my boss is bullying me...']\n",
      "{'input_ids': [[0, 7974, 2, 2, 939, 12905, 417, 33, 2334, 6, 114, 939, 58, 164, 2, 1, 1, 1], [0, 2430, 2, 2, 98, 3036, 5074, 939, 40, 2649, 47, 259, 11, 15610, 1597, 2977, 16506, 2], [0, 2430, 2, 2, 127, 3504, 16, 11902, 162, 734, 2, 1, 1, 1, 1, 1, 1, 1]], 'attention_mask': [[1, 1, 1, 1, 1, 1, 1, 1, 1, 1, 1, 1, 1, 1, 1, 0, 0, 0], [1, 1, 1, 1, 1, 1, 1, 1, 1, 1, 1, 1, 1, 1, 1, 1, 1, 1], [1, 1, 1, 1, 1, 1, 1, 1, 1, 1, 1, 0, 0, 0, 0, 0, 0, 0]]}\n"
     ]
    }
   ],
   "source": [
    "print(list(train.text[:3]))\n",
    "print(tokenizer.batch_encode_plus(list(train.text[:3]), pad_to_max_length=True))"
   ]
  },
  {
   "cell_type": "markdown",
   "metadata": {},
   "source": [
    " "
   ]
  },
  {
   "cell_type": "markdown",
   "metadata": {},
   "source": [
    "### Labels"
   ]
  },
  {
   "cell_type": "code",
   "execution_count": 33,
   "metadata": {
    "ExecuteTime": {
     "end_time": "2020-06-06T12:21:19.305936Z",
     "start_time": "2020-06-06T12:21:19.300941Z"
    }
   },
   "outputs": [],
   "source": [
    "def get_labels(enc_text, enc_sel_text, offset=0):\n",
    "    start, end = None, None\n",
    "    for i in range(len(enc_text) - len(enc_sel_text) + 1):\n",
    "        if enc_text[i : i + len(enc_sel_text)] == enc_sel_text:\n",
    "            start, end = i, i + len(enc_sel_text) - 1\n",
    "    if start and end:\n",
    "        return start + offset, end + offset"
   ]
  },
  {
   "cell_type": "code",
   "execution_count": 34,
   "metadata": {
    "ExecuteTime": {
     "end_time": "2020-06-06T12:21:19.313919Z",
     "start_time": "2020-06-06T12:21:19.307113Z"
    }
   },
   "outputs": [
    {
     "name": "stdout",
     "output_type": "stream",
     "text": [
      "negative</s></s> what interview! leave me alone\n",
      " leave me alone\n",
      "[0, 2430, 2, 2, 99, 1194, 328, 989, 162, 1937, 2]\n",
      "[989, 162, 1937]\n"
     ]
    }
   ],
   "source": [
    "print(train.text[3])\n",
    "print(train.selected_text[3])\n",
    "print(tokenizer.encode(train.text[3], add_special_tokens=True))\n",
    "print(tokenizer.encode(train.selected_text[3], add_special_tokens=False))"
   ]
  },
  {
   "cell_type": "code",
   "execution_count": 35,
   "metadata": {
    "ExecuteTime": {
     "end_time": "2020-06-06T12:21:19.320988Z",
     "start_time": "2020-06-06T12:21:19.314925Z"
    }
   },
   "outputs": [
    {
     "data": {
      "text/plain": [
       "(7, 9)"
      ]
     },
     "execution_count": 35,
     "metadata": {},
     "output_type": "execute_result"
    }
   ],
   "source": [
    "get_labels(tokenizer.encode(train.text[3]), \n",
    "           tokenizer.encode(train.selected_text[3], \n",
    "                            add_special_tokens=False))"
   ]
  },
  {
   "cell_type": "code",
   "execution_count": 36,
   "metadata": {
    "ExecuteTime": {
     "end_time": "2020-06-06T12:21:26.222389Z",
     "start_time": "2020-06-06T12:21:19.321995Z"
    }
   },
   "outputs": [],
   "source": [
    "train['labels'] = train.apply(\n",
    "    lambda row: get_labels(\n",
    "        tokenizer.encode(row.text, add_special_tokens=True),\n",
    "        tokenizer.encode(row.selected_text, add_special_tokens=False),\n",
    "        offset=0\n",
    "    ), \n",
    "    axis=1\n",
    ")"
   ]
  },
  {
   "cell_type": "code",
   "execution_count": 37,
   "metadata": {
    "ExecuteTime": {
     "end_time": "2020-06-06T12:21:26.240133Z",
     "start_time": "2020-06-06T12:21:26.223419Z"
    }
   },
   "outputs": [
    {
     "data": {
      "text/plain": [
       "(24886, 7)"
      ]
     },
     "execution_count": 37,
     "metadata": {},
     "output_type": "execute_result"
    }
   ],
   "source": [
    "train = train[~train.labels.isna()].reset_index(drop=True)\n",
    "train.shape"
   ]
  },
  {
   "cell_type": "code",
   "execution_count": 38,
   "metadata": {
    "ExecuteTime": {
     "end_time": "2020-06-06T12:21:26.253902Z",
     "start_time": "2020-06-06T12:21:26.241216Z"
    }
   },
   "outputs": [
    {
     "data": {
      "text/plain": [
       "('negative</s></s> sooo sad i will miss you here in san diego!!!',\n",
       " ' sooo sad',\n",
       " (4, 6))"
      ]
     },
     "execution_count": 38,
     "metadata": {},
     "output_type": "execute_result"
    }
   ],
   "source": [
    "train.iloc[1].text, train.iloc[1].selected_text, train.iloc[1].labels"
   ]
  },
  {
   "cell_type": "code",
   "execution_count": 39,
   "metadata": {
    "ExecuteTime": {
     "end_time": "2020-06-06T12:21:26.261854Z",
     "start_time": "2020-06-06T12:21:26.254926Z"
    }
   },
   "outputs": [
    {
     "data": {
      "text/plain": [
       "('positive</s></s> playing ghost online is really interesting. the new updates are kirin pet and metamorph for third job. can`t wait to have a dragon pet',\n",
       " ' interesting.',\n",
       " (9, 10))"
      ]
     },
     "execution_count": 39,
     "metadata": {},
     "output_type": "execute_result"
    }
   ],
   "source": [
    "idx = 20\n",
    "train.iloc[idx].text, train.iloc[idx].selected_text, train.iloc[idx].labels"
   ]
  },
  {
   "cell_type": "markdown",
   "metadata": {},
   "source": [
    " \n",
    " "
   ]
  },
  {
   "cell_type": "markdown",
   "metadata": {},
   "source": [
    "### Dataset"
   ]
  },
  {
   "cell_type": "markdown",
   "metadata": {},
   "source": [
    "#### Dataset class"
   ]
  },
  {
   "cell_type": "code",
   "execution_count": 40,
   "metadata": {
    "ExecuteTime": {
     "end_time": "2020-06-06T12:21:26.268828Z",
     "start_time": "2020-06-06T12:21:26.263233Z"
    }
   },
   "outputs": [],
   "source": [
    "from torch.utils.data import Dataset as TorchDataset\n",
    "from torch.utils.data import DataLoader, random_split\n",
    "from torch.utils.data.sampler import Sampler"
   ]
  },
  {
   "cell_type": "code",
   "execution_count": 41,
   "metadata": {
    "ExecuteTime": {
     "end_time": "2020-06-06T12:21:26.278831Z",
     "start_time": "2020-06-06T12:21:26.270435Z"
    }
   },
   "outputs": [],
   "source": [
    "class TweetDataset(TorchDataset):\n",
    "    def __init__(self, df):\n",
    "        self.df = df\n",
    "        self.return_labels = 'labels' in df.columns\n",
    "        self.selected_text = 'selected_text' in df.columns\n",
    "        \n",
    "    def __getitem__(self, index):\n",
    "        return {\n",
    "            'orig_text': self.df.loc[index].orig_text,\n",
    "            'orig_selected_text': self.df.loc[index].orig_selected_text if self.return_labels else '',\n",
    "            'text': self.df.loc[index].text,\n",
    "            'selected_text': self.df.loc[index].selected_text if self.return_labels else '',\n",
    "            'sentiment': self.df.loc[index].sentiment,\n",
    "            'labels': self.df.loc[index].labels if self.return_labels else (0, 0),\n",
    "            'textID': self.df.loc[index].textID\n",
    "        }\n",
    "    \n",
    "    def __len__(self):\n",
    "        return len(self.df)"
   ]
  },
  {
   "cell_type": "code",
   "execution_count": 42,
   "metadata": {
    "ExecuteTime": {
     "end_time": "2020-06-06T12:21:26.285335Z",
     "start_time": "2020-06-06T12:21:26.280005Z"
    }
   },
   "outputs": [],
   "source": [
    "dataset = TweetDataset(train)"
   ]
  },
  {
   "cell_type": "code",
   "execution_count": 43,
   "metadata": {
    "ExecuteTime": {
     "end_time": "2020-06-06T12:21:26.293806Z",
     "start_time": "2020-06-06T12:21:26.286506Z"
    }
   },
   "outputs": [
    {
     "data": {
      "text/plain": [
       "{'orig_text': 'my boss is bullying me...',\n",
       " 'orig_selected_text': 'bullying me',\n",
       " 'text': 'negative</s></s> my boss is bullying me...',\n",
       " 'selected_text': ' bullying me',\n",
       " 'sentiment': 'negative',\n",
       " 'labels': (7, 8),\n",
       " 'textID': '088c60f138'}"
      ]
     },
     "execution_count": 43,
     "metadata": {},
     "output_type": "execute_result"
    }
   ],
   "source": [
    "dataset[2]"
   ]
  },
  {
   "cell_type": "markdown",
   "metadata": {},
   "source": [
    " "
   ]
  },
  {
   "cell_type": "markdown",
   "metadata": {},
   "source": [
    "#### Train/val split"
   ]
  },
  {
   "cell_type": "code",
   "execution_count": 44,
   "metadata": {
    "ExecuteTime": {
     "end_time": "2020-06-06T12:21:26.299541Z",
     "start_time": "2020-06-06T12:21:26.294955Z"
    }
   },
   "outputs": [],
   "source": [
    "VAL_SIZE = 0.1"
   ]
  },
  {
   "cell_type": "code",
   "execution_count": 45,
   "metadata": {
    "ExecuteTime": {
     "end_time": "2020-06-06T12:21:26.305817Z",
     "start_time": "2020-06-06T12:21:26.300499Z"
    }
   },
   "outputs": [],
   "source": [
    "val_length = int(len(dataset) * VAL_SIZE)"
   ]
  },
  {
   "cell_type": "code",
   "execution_count": 46,
   "metadata": {
    "ExecuteTime": {
     "end_time": "2020-06-06T12:21:26.313726Z",
     "start_time": "2020-06-06T12:21:26.306775Z"
    }
   },
   "outputs": [],
   "source": [
    "train_dataset, val_dataset = random_split(dataset, [len(dataset) - val_length, val_length])"
   ]
  },
  {
   "cell_type": "code",
   "execution_count": 47,
   "metadata": {
    "ExecuteTime": {
     "end_time": "2020-06-06T12:21:26.319391Z",
     "start_time": "2020-06-06T12:21:26.314713Z"
    }
   },
   "outputs": [
    {
     "data": {
      "text/plain": [
       "(22398, 2488)"
      ]
     },
     "execution_count": 47,
     "metadata": {},
     "output_type": "execute_result"
    }
   ],
   "source": [
    "len(train_dataset), len(val_dataset)"
   ]
  },
  {
   "cell_type": "markdown",
   "metadata": {},
   "source": [
    " "
   ]
  },
  {
   "cell_type": "markdown",
   "metadata": {},
   "source": [
    "#### DataLoaders"
   ]
  },
  {
   "cell_type": "code",
   "execution_count": 48,
   "metadata": {
    "ExecuteTime": {
     "end_time": "2020-06-06T12:21:26.326056Z",
     "start_time": "2020-06-06T12:21:26.320380Z"
    }
   },
   "outputs": [],
   "source": [
    "class PaddingEncoder():\n",
    "    def __init__(self, tokenizer):\n",
    "        self.tokenizer = tokenizer\n",
    "        \n",
    "    def _encode_pad(self, items, return_tensors):\n",
    "        return self.tokenizer.batch_encode_plus(\n",
    "            items,\n",
    "            add_special_tokens=True,\n",
    "            pad_to_max_length=True,\n",
    "            return_tensors=return_tensors\n",
    "        )\n",
    "        \n",
    "    def __call__(self, item_list):\n",
    "        batch = {}\n",
    "        \n",
    "        # Batch-encode list of texts\n",
    "        text_encoding = self._encode_pad([item['text'] for item in item_list], 'pt')\n",
    "        \n",
    "        # Stack token ids, masks and labels into padded tensors\n",
    "        batch['labels'] = torch.from_numpy(np.array([item['labels'] for item in item_list]))\n",
    "        batch['text_ids'] = text_encoding['input_ids']\n",
    "        batch['text_mask'] = text_encoding['attention_mask']\n",
    "        \n",
    "        # Process type ids (sentiment as sentence A, text as sentence B)\n",
    "        type_ids = np.array(text_encoding['input_ids'])\n",
    "        type_ids = np.where(type_ids > 0, 1, 0)\n",
    "        type_ids[:, :3] = 0\n",
    "        batch['type_ids'] = torch.from_numpy(type_ids)\n",
    "        \n",
    "        # Keep answer and textID unchanged\n",
    "        batch['selected_text'] = [item['selected_text'] for item in item_list]\n",
    "        batch['textID'] = [item['textID'] for item in item_list]\n",
    "        \n",
    "        return batch"
   ]
  },
  {
   "cell_type": "code",
   "execution_count": 49,
   "metadata": {
    "ExecuteTime": {
     "end_time": "2020-06-06T12:21:26.334361Z",
     "start_time": "2020-06-06T12:21:26.327057Z"
    }
   },
   "outputs": [],
   "source": [
    "BATCH_SIZE = 16"
   ]
  },
  {
   "cell_type": "code",
   "execution_count": 50,
   "metadata": {
    "ExecuteTime": {
     "end_time": "2020-06-06T12:21:26.341364Z",
     "start_time": "2020-06-06T12:21:26.335982Z"
    }
   },
   "outputs": [],
   "source": [
    "train_loader = DataLoader(\n",
    "    train_dataset,\n",
    "    batch_size=BATCH_SIZE,\n",
    "    shuffle=True,\n",
    "    collate_fn=PaddingEncoder(tokenizer)\n",
    ")"
   ]
  },
  {
   "cell_type": "code",
   "execution_count": 51,
   "metadata": {
    "ExecuteTime": {
     "end_time": "2020-06-06T12:21:26.347885Z",
     "start_time": "2020-06-06T12:21:26.342680Z"
    }
   },
   "outputs": [],
   "source": [
    "val_loader = DataLoader(\n",
    "    val_dataset,\n",
    "    batch_size=BATCH_SIZE,\n",
    "    shuffle=False,\n",
    "    collate_fn=PaddingEncoder(tokenizer)\n",
    ")"
   ]
  },
  {
   "cell_type": "code",
   "execution_count": 52,
   "metadata": {
    "ExecuteTime": {
     "end_time": "2020-06-06T12:21:26.373824Z",
     "start_time": "2020-06-06T12:21:26.349791Z"
    },
    "scrolled": true
   },
   "outputs": [
    {
     "name": "stdout",
     "output_type": "stream",
     "text": [
      "labels torch.Size([16, 2])\n",
      "text_ids torch.Size([16, 35])\n",
      "text_mask torch.Size([16, 35])\n",
      "type_ids torch.Size([16, 35])\n",
      "selected_text [' yay me', ' thank you for being such an awesome mother', ' thanks.'] ...\n",
      "textID ['91f408f6f0', '9daf95b109', '1bcdbbef14'] ...\n"
     ]
    }
   ],
   "source": [
    "test_batch = next(iter(train_loader))\n",
    "for k in test_batch.keys():\n",
    "    if k not in ['selected_text', 'textID']:\n",
    "        print(k, test_batch[k].shape)\n",
    "    else:\n",
    "        print(k, test_batch[k][:3], '...')"
   ]
  },
  {
   "cell_type": "markdown",
   "metadata": {},
   "source": [
    " "
   ]
  },
  {
   "cell_type": "markdown",
   "metadata": {},
   "source": [
    "***"
   ]
  },
  {
   "cell_type": "markdown",
   "metadata": {},
   "source": [
    "## Training"
   ]
  },
  {
   "cell_type": "markdown",
   "metadata": {},
   "source": [
    "### Test RoBERTa output"
   ]
  },
  {
   "cell_type": "code",
   "execution_count": 53,
   "metadata": {
    "ExecuteTime": {
     "end_time": "2020-06-06T12:21:26.379113Z",
     "start_time": "2020-06-06T12:21:26.375545Z"
    }
   },
   "outputs": [
    {
     "data": {
      "text/plain": [
       "torch.Size([16, 35])"
      ]
     },
     "execution_count": 53,
     "metadata": {},
     "output_type": "execute_result"
    }
   ],
   "source": [
    "test_batch['text_ids'].shape"
   ]
  },
  {
   "cell_type": "code",
   "execution_count": 54,
   "metadata": {
    "ExecuteTime": {
     "end_time": "2020-06-06T12:21:26.912562Z",
     "start_time": "2020-06-06T12:21:26.380466Z"
    }
   },
   "outputs": [],
   "source": [
    "test_roberta_out = roberta(\n",
    "    input_ids=test_batch['text_ids'], \n",
    "    attention_mask=test_batch['text_mask']\n",
    ")"
   ]
  },
  {
   "cell_type": "code",
   "execution_count": 55,
   "metadata": {
    "ExecuteTime": {
     "end_time": "2020-06-06T12:21:26.917010Z",
     "start_time": "2020-06-06T12:21:26.913734Z"
    }
   },
   "outputs": [
    {
     "data": {
      "text/plain": [
       "(13, torch.Size([16, 35, 768]))"
      ]
     },
     "execution_count": 55,
     "metadata": {},
     "output_type": "execute_result"
    }
   ],
   "source": [
    "len(test_roberta_out[2]), test_roberta_out[2][-1].shape"
   ]
  },
  {
   "cell_type": "markdown",
   "metadata": {},
   "source": [
    " "
   ]
  },
  {
   "cell_type": "markdown",
   "metadata": {},
   "source": [
    "### Model classes"
   ]
  },
  {
   "cell_type": "code",
   "execution_count": 56,
   "metadata": {
    "ExecuteTime": {
     "end_time": "2020-06-06T12:21:26.926114Z",
     "start_time": "2020-06-06T12:21:26.918132Z"
    }
   },
   "outputs": [
    {
     "data": {
      "text/plain": [
       "768"
      ]
     },
     "execution_count": 56,
     "metadata": {},
     "output_type": "execute_result"
    }
   ],
   "source": [
    "roberta.config.hidden_size"
   ]
  },
  {
   "cell_type": "code",
   "execution_count": 57,
   "metadata": {
    "ExecuteTime": {
     "end_time": "2020-06-06T12:21:26.932814Z",
     "start_time": "2020-06-06T12:21:26.927252Z"
    }
   },
   "outputs": [],
   "source": [
    "class RobertaBase(nn.Module):\n",
    "    def __init__(self, pretrained, drop=0.5):\n",
    "        super().__init__()\n",
    "        self.transformer = pretrained\n",
    "        self.drop = nn.Dropout(p=drop)\n",
    "        self.fc = nn.Linear(\n",
    "            in_features=self.transformer.config.hidden_size,\n",
    "            out_features=2\n",
    "        )\n",
    "        nn.init.normal_(self.fc.weight, std=0.02)\n",
    "        nn.init.normal_(self.fc.bias, 0)\n",
    "    \n",
    "    def forward(self, batch):\n",
    "        \n",
    "        # Apply transformer to text\n",
    "        _, _, trf_out = self.transformer(\n",
    "            input_ids=batch['text_ids'], \n",
    "            attention_mask=batch['text_mask']\n",
    "        )\n",
    "        \n",
    "        # Average 3 last layers of transformer\n",
    "        embs = torch.stack([trf_out[-1], trf_out[-2], trf_out[-3]]).mean(0)\n",
    "        fc_out = self.fc(self.drop(embs))\n",
    "        fc_out_start, fc_out_end = fc_out.split(1, dim=-1)\n",
    "            \n",
    "        return fc_out_start.squeeze(-1), fc_out_end.squeeze(-1)"
   ]
  },
  {
   "cell_type": "markdown",
   "metadata": {},
   "source": [
    "\n",
    " "
   ]
  },
  {
   "cell_type": "markdown",
   "metadata": {},
   "source": [
    "### Check model output"
   ]
  },
  {
   "cell_type": "code",
   "execution_count": 58,
   "metadata": {
    "ExecuteTime": {
     "end_time": "2020-06-06T12:21:26.939572Z",
     "start_time": "2020-06-06T12:21:26.933923Z"
    }
   },
   "outputs": [],
   "source": [
    "test_model = RobertaBase(\n",
    "    pretrained=roberta,\n",
    "    drop=0.5\n",
    ")"
   ]
  },
  {
   "cell_type": "code",
   "execution_count": 59,
   "metadata": {
    "ExecuteTime": {
     "end_time": "2020-06-06T12:21:26.946461Z",
     "start_time": "2020-06-06T12:21:26.940648Z"
    }
   },
   "outputs": [
    {
     "name": "stdout",
     "output_type": "stream",
     "text": [
      "labels torch.Size([16, 2])\n",
      "text_ids torch.Size([16, 35])\n",
      "text_mask torch.Size([16, 35])\n",
      "type_ids torch.Size([16, 35])\n"
     ]
    }
   ],
   "source": [
    "for k in test_batch.keys():\n",
    "    if k not in ['selected_text', 'textID']:\n",
    "        print(k, test_batch[k].shape)"
   ]
  },
  {
   "cell_type": "code",
   "execution_count": 60,
   "metadata": {
    "ExecuteTime": {
     "end_time": "2020-06-06T12:21:27.386785Z",
     "start_time": "2020-06-06T12:21:26.947411Z"
    }
   },
   "outputs": [],
   "source": [
    "with torch.no_grad():\n",
    "    model_out = test_model.forward(test_batch)"
   ]
  },
  {
   "cell_type": "code",
   "execution_count": 61,
   "metadata": {
    "ExecuteTime": {
     "end_time": "2020-06-06T12:21:27.390901Z",
     "start_time": "2020-06-06T12:21:27.387927Z"
    }
   },
   "outputs": [
    {
     "data": {
      "text/plain": [
       "(torch.Size([16, 35]), torch.Size([16, 35]))"
      ]
     },
     "execution_count": 61,
     "metadata": {},
     "output_type": "execute_result"
    }
   ],
   "source": [
    "model_out[0].shape, model_out[1].shape"
   ]
  },
  {
   "cell_type": "markdown",
   "metadata": {},
   "source": [
    " "
   ]
  },
  {
   "cell_type": "markdown",
   "metadata": {},
   "source": [
    "### Train/val support"
   ]
  },
  {
   "cell_type": "code",
   "execution_count": 62,
   "metadata": {
    "ExecuteTime": {
     "end_time": "2020-06-06T12:21:27.396625Z",
     "start_time": "2020-06-06T12:21:27.392010Z"
    }
   },
   "outputs": [],
   "source": [
    "def get_special_mask(batch_text_ids, special_ids):\n",
    "    \"\"\"Mask with 1 for positions of all special indices.\"\"\"\n",
    "    \n",
    "    special_ids_mask = functools.reduce(\n",
    "        lambda x, y: x + y,\n",
    "        [batch_text_ids == sp_ind for sp_ind in special_ids]\n",
    "    )\n",
    "    \n",
    "    return special_ids_mask"
   ]
  },
  {
   "cell_type": "code",
   "execution_count": 63,
   "metadata": {
    "ExecuteTime": {
     "end_time": "2020-06-06T12:21:27.403405Z",
     "start_time": "2020-06-06T12:21:27.397738Z"
    }
   },
   "outputs": [],
   "source": [
    "def mask_output(pred, batch_text_ids, special_ids):\n",
    "    \"\"\"Mask model output with -inf at special indices' positions.\"\"\"\n",
    "    \n",
    "#     masking_value = torch.finfo(pred.dtype).min\n",
    "    masking_value = float('-inf')\n",
    "    \n",
    "    return torch.where(\n",
    "        get_special_mask(batch_text_ids, special_ids).to('cuda' if pred.is_cuda else 'cpu'),\n",
    "        (torch.ones_like(pred) * masking_value).to('cuda' if pred.is_cuda else 'cpu'),\n",
    "        pred\n",
    "    )"
   ]
  },
  {
   "cell_type": "code",
   "execution_count": 64,
   "metadata": {
    "ExecuteTime": {
     "end_time": "2020-06-06T12:21:27.423285Z",
     "start_time": "2020-06-06T12:21:27.404554Z"
    },
    "scrolled": true
   },
   "outputs": [
    {
     "data": {
      "text/plain": [
       "tensor([[       -inf,        -inf,        -inf,        -inf,  2.1684e-01,\n",
       "          3.2490e-01, -1.3457e-01,  4.0788e-01, -7.6948e-01, -8.6780e-02,\n",
       "          2.7615e-04, -1.3882e-02,  1.2381e-01,  4.9700e-01,  5.6912e-01,\n",
       "          1.4781e-01,  2.3058e-01, -5.4517e-02,  3.0758e-01, -2.2114e-01,\n",
       "          7.5724e-01,        -inf,        -inf,        -inf,        -inf,\n",
       "                -inf,        -inf,        -inf,        -inf,        -inf,\n",
       "                -inf,        -inf,        -inf,        -inf,        -inf],\n",
       "        [       -inf,        -inf,        -inf,        -inf,  4.0974e-01,\n",
       "          3.0437e-02,  3.4322e-01,  1.2353e+00, -8.2559e-02, -1.5857e-01,\n",
       "          1.9674e-01, -9.7082e-02,  3.6498e-01, -6.8476e-03,  4.4771e-02,\n",
       "          3.4542e-01, -5.2419e-01,  2.8988e-01, -6.0153e-02, -5.9003e-01,\n",
       "          4.7431e-01,  3.5788e-01,        -inf,        -inf,        -inf,\n",
       "                -inf,        -inf,        -inf,        -inf,        -inf,\n",
       "                -inf,        -inf,        -inf,        -inf,        -inf],\n",
       "        [       -inf,        -inf,        -inf,        -inf,  2.8685e-01,\n",
       "          1.1623e-01,  4.6339e-02,  6.1322e-01, -9.2033e-02,  5.1455e-03,\n",
       "                -inf,        -inf,        -inf,        -inf,        -inf,\n",
       "                -inf,        -inf,        -inf,        -inf,        -inf,\n",
       "                -inf,        -inf,        -inf,        -inf,        -inf,\n",
       "                -inf,        -inf,        -inf,        -inf,        -inf,\n",
       "                -inf,        -inf,        -inf,        -inf,        -inf],\n",
       "        [       -inf,        -inf,        -inf,        -inf,  1.6653e-02,\n",
       "          7.4184e-01,  8.2647e-03,  6.9803e-01,        -inf,        -inf,\n",
       "                -inf,        -inf,        -inf,        -inf,        -inf,\n",
       "                -inf,        -inf,        -inf,        -inf,        -inf,\n",
       "                -inf,        -inf,        -inf,        -inf,        -inf,\n",
       "                -inf,        -inf,        -inf,        -inf,        -inf,\n",
       "                -inf,        -inf,        -inf,        -inf,        -inf],\n",
       "        [       -inf,        -inf,        -inf,        -inf,  2.4626e-01,\n",
       "          2.3934e-01, -1.5309e-01,  4.3663e-01,  5.5743e-01,  1.4875e-01,\n",
       "          4.5230e-01,  3.4424e-01,  3.3081e-01, -4.8808e-02,        -inf,\n",
       "                -inf,        -inf,        -inf,        -inf,        -inf,\n",
       "                -inf,        -inf,        -inf,        -inf,        -inf,\n",
       "                -inf,        -inf,        -inf,        -inf,        -inf,\n",
       "                -inf,        -inf,        -inf,        -inf,        -inf],\n",
       "        [       -inf,        -inf,        -inf,        -inf, -4.8551e-01,\n",
       "         -2.7523e-01, -4.1556e-01,  5.1338e-02,  7.6706e-01,  7.4403e-02,\n",
       "          2.7385e-01,  4.3016e-01, -2.5137e-02,  1.5216e-01,  1.2727e-01,\n",
       "          1.5840e-01, -9.3933e-02,  5.6250e-01,  4.1882e-01,  6.2759e-01,\n",
       "          2.5696e-01,  6.0806e-01, -7.6609e-02,  3.7686e-01,  8.3130e-01,\n",
       "          4.1698e-01,        -inf,        -inf,        -inf,        -inf,\n",
       "                -inf,        -inf,        -inf,        -inf,        -inf],\n",
       "        [       -inf,        -inf,        -inf,        -inf,  4.6850e-01,\n",
       "          1.6815e-01,  2.0922e-01, -1.4490e-01,  8.6480e-02,  6.2758e-01,\n",
       "          6.1050e-01,  6.9588e-02, -1.8368e-01, -2.5394e-02,  2.5473e-01,\n",
       "                -inf,        -inf,        -inf,        -inf,        -inf,\n",
       "                -inf,        -inf,        -inf,        -inf,        -inf,\n",
       "                -inf,        -inf,        -inf,        -inf,        -inf,\n",
       "                -inf,        -inf,        -inf,        -inf,        -inf],\n",
       "        [       -inf,        -inf,        -inf,        -inf,  1.0751e+00,\n",
       "          4.2471e-01,  4.2687e-01,  5.4278e-03,  1.6230e-01,  3.0522e-01,\n",
       "         -1.1410e-02,  5.5003e-01,        -inf,        -inf,        -inf,\n",
       "                -inf,        -inf,        -inf,        -inf,        -inf,\n",
       "                -inf,        -inf,        -inf,        -inf,        -inf,\n",
       "                -inf,        -inf,        -inf,        -inf,        -inf,\n",
       "                -inf,        -inf,        -inf,        -inf,        -inf],\n",
       "        [       -inf,        -inf,        -inf,        -inf,  7.7332e-01,\n",
       "         -9.4580e-02,  4.1548e-01,  4.2607e-01,  3.0094e-01,  2.5770e-01,\n",
       "          1.2013e-01, -8.9926e-02,  3.2035e-01,  4.9871e-01,  2.9539e-01,\n",
       "          4.4293e-01,  3.6807e-01,  1.2114e-01, -4.1168e-01,  2.7186e-01,\n",
       "         -9.9140e-03,  5.5020e-01, -4.4571e-01, -3.8680e-01,  5.3251e-02,\n",
       "         -5.9269e-02,  2.4591e-01,  7.8442e-02, -9.1438e-02, -9.0875e-02,\n",
       "                -inf,        -inf,        -inf,        -inf,        -inf],\n",
       "        [       -inf,        -inf,        -inf,        -inf,  9.6239e-02,\n",
       "          3.4436e-01,  4.5986e-01,  5.6578e-01,  1.5083e-01,  2.6661e-01,\n",
       "         -1.2358e-01,  4.5683e-01,  2.4104e-01, -3.7512e-01,  2.8452e-01,\n",
       "          3.2091e-02, -8.5863e-03,  3.1088e-01,  2.7849e-03,  1.7836e-01,\n",
       "          8.1492e-01,  4.6403e-01,  1.4609e-01,  6.4708e-01,  6.8855e-01,\n",
       "          3.0813e-01,  3.9931e-01,  2.5376e-01,        -inf,        -inf,\n",
       "                -inf,        -inf,        -inf,        -inf,        -inf],\n",
       "        [       -inf,        -inf,        -inf,        -inf,  4.0633e-01,\n",
       "          5.6903e-02, -4.6495e-02, -4.1710e-01,  3.9281e-02, -8.0030e-02,\n",
       "          1.0726e-01,  2.6528e-01, -5.6361e-01, -2.4833e-01,  5.3137e-01,\n",
       "         -2.1685e-01,  3.1481e-01, -6.7479e-02,  6.8908e-01,  9.1285e-03,\n",
       "          2.1468e-01,  1.6127e-01,  4.6967e-01,  5.6913e-01, -4.6600e-02,\n",
       "         -1.7038e-01,  1.5182e-01,  7.3094e-02,  5.1666e-01,  3.2090e-01,\n",
       "          2.8328e-01,  8.8310e-02,  5.5053e-01,  2.7974e-01,        -inf],\n",
       "        [       -inf,        -inf,        -inf,        -inf,  2.3971e-01,\n",
       "          6.2539e-01,  6.0245e-01,  5.6048e-01,  3.5148e-01, -1.7497e-03,\n",
       "         -7.5185e-04,  1.1193e-01, -3.2753e-02,  6.9387e-01,  5.0354e-01,\n",
       "         -1.0265e-01, -2.0537e-01,  3.7336e-01,  3.6830e-01, -5.4919e-02,\n",
       "         -3.3168e-01,  2.8169e-01, -2.6663e-01,  1.7980e-01,  1.7112e-01,\n",
       "         -5.7653e-01,  2.9358e-01, -1.4372e-01,  2.5374e-01,        -inf,\n",
       "                -inf,        -inf,        -inf,        -inf,        -inf],\n",
       "        [       -inf,        -inf,        -inf,        -inf,  3.6273e-01,\n",
       "          2.2063e-01, -2.0238e-01,  6.9797e-02,  5.0160e-01,  2.6017e-01,\n",
       "          5.2828e-01,  4.1721e-01,  3.9289e-01,  3.0325e-01,  2.4878e-01,\n",
       "          1.7794e-01,  2.2475e-01,  4.7839e-01,  7.2753e-02,  5.3060e-01,\n",
       "          1.0563e-01,  4.6905e-02,  1.9622e-01,  6.2643e-01,  7.2683e-01,\n",
       "          6.9485e-01,        -inf,        -inf,        -inf,        -inf,\n",
       "                -inf,        -inf,        -inf,        -inf,        -inf],\n",
       "        [       -inf,        -inf,        -inf,        -inf,  9.1169e-01,\n",
       "         -2.8303e-01,  5.7267e-01,  3.3865e-03, -3.2159e-01,  9.7639e-02,\n",
       "         -8.4612e-02,  2.4429e-01,        -inf,        -inf,        -inf,\n",
       "                -inf,        -inf,        -inf,        -inf,        -inf,\n",
       "                -inf,        -inf,        -inf,        -inf,        -inf,\n",
       "                -inf,        -inf,        -inf,        -inf,        -inf,\n",
       "                -inf,        -inf,        -inf,        -inf,        -inf],\n",
       "        [       -inf,        -inf,        -inf,        -inf,  2.8533e-01,\n",
       "          4.7856e-01,  5.4261e-01,  5.0587e-01,  4.0094e-01, -1.4459e-01,\n",
       "          1.6893e-02,  1.6445e-01,  4.2875e-01,  4.4044e-01,  2.6461e-01,\n",
       "          7.2453e-01,  4.0497e-01,  5.4932e-01,  2.3173e-01,  2.7500e-01,\n",
       "          7.0519e-01,  5.9456e-02, -2.3252e-03,  3.4066e-01,  1.2301e-01,\n",
       "          8.8009e-02,        -inf,        -inf,        -inf,        -inf,\n",
       "                -inf,        -inf,        -inf,        -inf,        -inf],\n",
       "        [       -inf,        -inf,        -inf,        -inf,  1.3177e-01,\n",
       "          2.4578e-01, -1.3108e-01,  2.5487e-01, -9.4852e-02, -3.1538e-01,\n",
       "          1.9996e-01,  4.4215e-02,        -inf,        -inf,        -inf,\n",
       "                -inf,        -inf,        -inf,        -inf,        -inf,\n",
       "                -inf,        -inf,        -inf,        -inf,        -inf,\n",
       "                -inf,        -inf,        -inf,        -inf,        -inf,\n",
       "                -inf,        -inf,        -inf,        -inf,        -inf]])"
      ]
     },
     "execution_count": 64,
     "metadata": {},
     "output_type": "execute_result"
    }
   ],
   "source": [
    "mask_output(\n",
    "    model_out[0], \n",
    "    test_batch['text_ids'], \n",
    "    tokenizer.all_special_ids + SENT_IDS\n",
    ")"
   ]
  },
  {
   "cell_type": "code",
   "execution_count": 65,
   "metadata": {
    "ExecuteTime": {
     "end_time": "2020-06-06T12:21:27.429236Z",
     "start_time": "2020-06-06T12:21:27.424295Z"
    },
    "scrolled": true
   },
   "outputs": [
    {
     "data": {
      "text/plain": [
       "tensor([[0.0000, 0.0000, 0.0000, 0.0000, 0.0604, 0.0673, 0.0425, 0.0731, 0.0225,\n",
       "         0.0446, 0.0486, 0.0479, 0.0550, 0.0799, 0.0859, 0.0564, 0.0612, 0.0460,\n",
       "         0.0661, 0.0390, 0.1037, 0.0000, 0.0000, 0.0000, 0.0000, 0.0000, 0.0000,\n",
       "         0.0000, 0.0000, 0.0000, 0.0000, 0.0000, 0.0000, 0.0000, 0.0000],\n",
       "        [0.0000, 0.0000, 0.0000, 0.0000, 0.0665, 0.0455, 0.0623, 0.1519, 0.0407,\n",
       "         0.0377, 0.0538, 0.0401, 0.0636, 0.0439, 0.0462, 0.0624, 0.0262, 0.0590,\n",
       "         0.0416, 0.0245, 0.0710, 0.0632, 0.0000, 0.0000, 0.0000, 0.0000, 0.0000,\n",
       "         0.0000, 0.0000, 0.0000, 0.0000, 0.0000, 0.0000, 0.0000, 0.0000],\n",
       "        [0.0000, 0.0000, 0.0000, 0.0000, 0.1833, 0.1546, 0.1441, 0.2541, 0.1255,\n",
       "         0.1383, 0.0000, 0.0000, 0.0000, 0.0000, 0.0000, 0.0000, 0.0000, 0.0000,\n",
       "         0.0000, 0.0000, 0.0000, 0.0000, 0.0000, 0.0000, 0.0000, 0.0000, 0.0000,\n",
       "         0.0000, 0.0000, 0.0000, 0.0000, 0.0000, 0.0000, 0.0000, 0.0000],\n",
       "        [0.0000, 0.0000, 0.0000, 0.0000, 0.1657, 0.3423, 0.1644, 0.3276, 0.0000,\n",
       "         0.0000, 0.0000, 0.0000, 0.0000, 0.0000, 0.0000, 0.0000, 0.0000, 0.0000,\n",
       "         0.0000, 0.0000, 0.0000, 0.0000, 0.0000, 0.0000, 0.0000, 0.0000, 0.0000,\n",
       "         0.0000, 0.0000, 0.0000, 0.0000, 0.0000, 0.0000, 0.0000, 0.0000],\n",
       "        [0.0000, 0.0000, 0.0000, 0.0000, 0.0970, 0.0963, 0.0651, 0.1173, 0.1324,\n",
       "         0.0880, 0.1192, 0.1070, 0.1055, 0.0722, 0.0000, 0.0000, 0.0000, 0.0000,\n",
       "         0.0000, 0.0000, 0.0000, 0.0000, 0.0000, 0.0000, 0.0000, 0.0000, 0.0000,\n",
       "         0.0000, 0.0000, 0.0000, 0.0000, 0.0000, 0.0000, 0.0000, 0.0000],\n",
       "        [0.0000, 0.0000, 0.0000, 0.0000, 0.0212, 0.0262, 0.0228, 0.0363, 0.0742,\n",
       "         0.0371, 0.0453, 0.0530, 0.0336, 0.0401, 0.0392, 0.0404, 0.0314, 0.0605,\n",
       "         0.0524, 0.0646, 0.0446, 0.0633, 0.0319, 0.0503, 0.0792, 0.0523, 0.0000,\n",
       "         0.0000, 0.0000, 0.0000, 0.0000, 0.0000, 0.0000, 0.0000, 0.0000],\n",
       "        [0.0000, 0.0000, 0.0000, 0.0000, 0.1153, 0.0854, 0.0890, 0.0625, 0.0787,\n",
       "         0.1352, 0.1329, 0.0774, 0.0601, 0.0704, 0.0931, 0.0000, 0.0000, 0.0000,\n",
       "         0.0000, 0.0000, 0.0000, 0.0000, 0.0000, 0.0000, 0.0000, 0.0000, 0.0000,\n",
       "         0.0000, 0.0000, 0.0000, 0.0000, 0.0000, 0.0000, 0.0000, 0.0000],\n",
       "        [0.0000, 0.0000, 0.0000, 0.0000, 0.2392, 0.1248, 0.1251, 0.0821, 0.0960,\n",
       "         0.1107, 0.0807, 0.1415, 0.0000, 0.0000, 0.0000, 0.0000, 0.0000, 0.0000,\n",
       "         0.0000, 0.0000, 0.0000, 0.0000, 0.0000, 0.0000, 0.0000, 0.0000, 0.0000,\n",
       "         0.0000, 0.0000, 0.0000, 0.0000, 0.0000, 0.0000, 0.0000, 0.0000],\n",
       "        [0.0000, 0.0000, 0.0000, 0.0000, 0.0688, 0.0289, 0.0481, 0.0486, 0.0429,\n",
       "         0.0411, 0.0358, 0.0290, 0.0437, 0.0523, 0.0426, 0.0494, 0.0459, 0.0358,\n",
       "         0.0210, 0.0417, 0.0314, 0.0550, 0.0203, 0.0216, 0.0335, 0.0299, 0.0406,\n",
       "         0.0343, 0.0290, 0.0290, 0.0000, 0.0000, 0.0000, 0.0000, 0.0000],\n",
       "        [0.0000, 0.0000, 0.0000, 0.0000, 0.0337, 0.0431, 0.0484, 0.0538, 0.0355,\n",
       "         0.0399, 0.0270, 0.0483, 0.0389, 0.0210, 0.0406, 0.0316, 0.0303, 0.0417,\n",
       "         0.0307, 0.0365, 0.0691, 0.0486, 0.0354, 0.0584, 0.0609, 0.0416, 0.0456,\n",
       "         0.0394, 0.0000, 0.0000, 0.0000, 0.0000, 0.0000, 0.0000, 0.0000],\n",
       "        [0.0000, 0.0000, 0.0000, 0.0000, 0.0416, 0.0294, 0.0265, 0.0183, 0.0288,\n",
       "         0.0256, 0.0309, 0.0362, 0.0158, 0.0216, 0.0472, 0.0223, 0.0380, 0.0259,\n",
       "         0.0552, 0.0280, 0.0344, 0.0326, 0.0444, 0.0490, 0.0265, 0.0234, 0.0323,\n",
       "         0.0298, 0.0465, 0.0382, 0.0368, 0.0303, 0.0481, 0.0367, 0.0000],\n",
       "        [0.0000, 0.0000, 0.0000, 0.0000, 0.0414, 0.0609, 0.0595, 0.0571, 0.0463,\n",
       "         0.0325, 0.0326, 0.0364, 0.0315, 0.0652, 0.0539, 0.0294, 0.0265, 0.0473,\n",
       "         0.0471, 0.0308, 0.0234, 0.0432, 0.0250, 0.0390, 0.0387, 0.0183, 0.0437,\n",
       "         0.0282, 0.0420, 0.0000, 0.0000, 0.0000, 0.0000, 0.0000, 0.0000],\n",
       "        [0.0000, 0.0000, 0.0000, 0.0000, 0.0464, 0.0402, 0.0263, 0.0346, 0.0533,\n",
       "         0.0418, 0.0547, 0.0489, 0.0478, 0.0437, 0.0414, 0.0385, 0.0404, 0.0520,\n",
       "         0.0347, 0.0548, 0.0358, 0.0338, 0.0392, 0.0603, 0.0667, 0.0646, 0.0000,\n",
       "         0.0000, 0.0000, 0.0000, 0.0000, 0.0000, 0.0000, 0.0000, 0.0000],\n",
       "        [0.0000, 0.0000, 0.0000, 0.0000, 0.2478, 0.0750, 0.1766, 0.0999, 0.0722,\n",
       "         0.1098, 0.0915, 0.1271, 0.0000, 0.0000, 0.0000, 0.0000, 0.0000, 0.0000,\n",
       "         0.0000, 0.0000, 0.0000, 0.0000, 0.0000, 0.0000, 0.0000, 0.0000, 0.0000,\n",
       "         0.0000, 0.0000, 0.0000, 0.0000, 0.0000, 0.0000, 0.0000, 0.0000],\n",
       "        [0.0000, 0.0000, 0.0000, 0.0000, 0.0431, 0.0523, 0.0558, 0.0538, 0.0484,\n",
       "         0.0280, 0.0330, 0.0382, 0.0498, 0.0503, 0.0422, 0.0669, 0.0486, 0.0561,\n",
       "         0.0409, 0.0427, 0.0656, 0.0344, 0.0323, 0.0456, 0.0367, 0.0354, 0.0000,\n",
       "         0.0000, 0.0000, 0.0000, 0.0000, 0.0000, 0.0000, 0.0000, 0.0000],\n",
       "        [0.0000, 0.0000, 0.0000, 0.0000, 0.1343, 0.1506, 0.1033, 0.1519, 0.1071,\n",
       "         0.0859, 0.1438, 0.1231, 0.0000, 0.0000, 0.0000, 0.0000, 0.0000, 0.0000,\n",
       "         0.0000, 0.0000, 0.0000, 0.0000, 0.0000, 0.0000, 0.0000, 0.0000, 0.0000,\n",
       "         0.0000, 0.0000, 0.0000, 0.0000, 0.0000, 0.0000, 0.0000, 0.0000]])"
      ]
     },
     "execution_count": 65,
     "metadata": {},
     "output_type": "execute_result"
    }
   ],
   "source": [
    "torch.softmax(mask_output(\n",
    "    model_out[0], \n",
    "    test_batch['text_ids'], \n",
    "    tokenizer.all_special_ids + SENT_IDS\n",
    "), 1)"
   ]
  },
  {
   "cell_type": "markdown",
   "metadata": {},
   "source": [
    " "
   ]
  },
  {
   "cell_type": "markdown",
   "metadata": {},
   "source": [
    "#### Train"
   ]
  },
  {
   "cell_type": "code",
   "execution_count": 66,
   "metadata": {
    "ExecuteTime": {
     "end_time": "2020-06-06T12:21:27.433182Z",
     "start_time": "2020-06-06T12:21:27.430230Z"
    }
   },
   "outputs": [],
   "source": [
    "def batch_to_device(batch, device):\n",
    "    for k in batch:\n",
    "        if isinstance(batch[k], torch.Tensor):\n",
    "            batch[k] = batch[k].to(device, dtype=torch.long)\n",
    "            \n",
    "    return batch"
   ]
  },
  {
   "cell_type": "code",
   "execution_count": 67,
   "metadata": {
    "ExecuteTime": {
     "end_time": "2020-06-06T12:21:27.440160Z",
     "start_time": "2020-06-06T12:21:27.434320Z"
    }
   },
   "outputs": [],
   "source": [
    "def get_batch_loss(model, criterion, optimizer, batch, special_ids=None):\n",
    "    out_start, out_end = model(batch)\n",
    "    \n",
    "    if special_ids:\n",
    "        out_start = mask_output(out_start, batch['text_ids'], special_ids)\n",
    "        out_end = mask_output(out_end, batch['text_ids'], special_ids)\n",
    "        \n",
    "    loss_start = criterion(out_start, batch['labels'][:, 0])\n",
    "    loss_end = criterion(out_end, batch['labels'][:, 1])\n",
    "    loss = loss_start + loss_end\n",
    "    \n",
    "    return loss"
   ]
  },
  {
   "cell_type": "code",
   "execution_count": 68,
   "metadata": {
    "ExecuteTime": {
     "end_time": "2020-06-06T12:21:27.446807Z",
     "start_time": "2020-06-06T12:21:27.443689Z"
    }
   },
   "outputs": [],
   "source": [
    "def train_on_batch(model, criterion, optimizer, batch, scheduler=None, special_ids=None):\n",
    "    model.train()\n",
    "    optimizer.zero_grad()\n",
    "    loss = get_batch_loss(model, criterion, optimizer, batch, special_ids)\n",
    "    loss.backward(torch.ones_like(loss))\n",
    "    optimizer.step()\n",
    "    if scheduler:\n",
    "        scheduler.step()\n",
    "    \n",
    "    return loss"
   ]
  },
  {
   "cell_type": "code",
   "execution_count": 69,
   "metadata": {
    "ExecuteTime": {
     "end_time": "2020-06-06T12:21:29.204112Z",
     "start_time": "2020-06-06T12:21:27.448183Z"
    }
   },
   "outputs": [
    {
     "data": {
      "text/plain": [
       "tensor(5.3022, grad_fn=<AddBackward0>)"
      ]
     },
     "execution_count": 69,
     "metadata": {},
     "output_type": "execute_result"
    }
   ],
   "source": [
    "train_on_batch(\n",
    "    test_model, \n",
    "    nn.CrossEntropyLoss(), \n",
    "    torch.optim.Adam(test_model.parameters()),\n",
    "    test_batch,\n",
    "    special_ids=tokenizer.all_special_ids + SENT_IDS\n",
    ")"
   ]
  },
  {
   "cell_type": "markdown",
   "metadata": {},
   "source": [
    " "
   ]
  },
  {
   "cell_type": "markdown",
   "metadata": {},
   "source": [
    "#### Predict"
   ]
  },
  {
   "cell_type": "code",
   "execution_count": 70,
   "metadata": {
    "ExecuteTime": {
     "end_time": "2020-06-06T12:21:29.209034Z",
     "start_time": "2020-06-06T12:21:29.205551Z"
    }
   },
   "outputs": [],
   "source": [
    "def get_best_start_end(pred_start, pred_end):\n",
    "    \"\"\"Calculate start and end postions (s, e) such that:\n",
    "        1) s <= e\n",
    "        2) pred_start[s] * pred_start[e] => max\n",
    "    \"\"\"\n",
    "    \n",
    "    # Upper triangular ((i > j) == 0) matrix of prediction vectors' outer product\n",
    "    dists = torch.matmul(\n",
    "        pred_start.view(-1, 1), \n",
    "        pred_end.view(1, -1)\n",
    "    ).triu()\n",
    "    \n",
    "    # Indices of maximum element in the outer product matrix\n",
    "    best_inds = np.unravel_index(\n",
    "        dists.to('cpu').detach().numpy().argmax(), \n",
    "        dists.shape\n",
    "    )\n",
    "    \n",
    "    return best_inds"
   ]
  },
  {
   "cell_type": "code",
   "execution_count": 71,
   "metadata": {
    "ExecuteTime": {
     "end_time": "2020-06-06T12:21:29.221153Z",
     "start_time": "2020-06-06T12:21:29.210230Z"
    }
   },
   "outputs": [],
   "source": [
    "def predict_on_batch(model, batch, special_ids=None):\n",
    "    model.eval()\n",
    "    with torch.no_grad():\n",
    "        out_start, out_end = model(batch)\n",
    "        \n",
    "        if special_ids:\n",
    "            out_start = mask_output(out_start, batch['text_ids'], special_ids)\n",
    "            out_end = mask_output(out_end, batch['text_ids'], special_ids)\n",
    "        \n",
    "        preds_start = torch.softmax(out_start, dim=1)\n",
    "        preds_end = torch.softmax(out_end, dim=1)\n",
    "        \n",
    "        return [get_best_start_end(*pred) for pred in zip(preds_start, preds_end)]"
   ]
  },
  {
   "cell_type": "code",
   "execution_count": 72,
   "metadata": {
    "ExecuteTime": {
     "end_time": "2020-06-06T12:21:29.681150Z",
     "start_time": "2020-06-06T12:21:29.222266Z"
    },
    "scrolled": true
   },
   "outputs": [
    {
     "data": {
      "text/plain": [
       "[(18, 20),\n",
       " (5, 13),\n",
       " (4, 9),\n",
       " (4, 7),\n",
       " (4, 13),\n",
       " (4, 25),\n",
       " (4, 14),\n",
       " (4, 11),\n",
       " (4, 29),\n",
       " (4, 12),\n",
       " (4, 33),\n",
       " (4, 28),\n",
       " (13, 25),\n",
       " (4, 5),\n",
       " (4, 12),\n",
       " (4, 11)]"
      ]
     },
     "execution_count": 72,
     "metadata": {},
     "output_type": "execute_result"
    }
   ],
   "source": [
    "test_pred = predict_on_batch(test_model, test_batch, tokenizer.all_special_ids + SENT_IDS)\n",
    "test_pred"
   ]
  },
  {
   "cell_type": "code",
   "execution_count": 73,
   "metadata": {
    "ExecuteTime": {
     "end_time": "2020-06-06T12:21:29.696125Z",
     "start_time": "2020-06-06T12:21:29.682239Z"
    }
   },
   "outputs": [
    {
     "data": {
      "text/plain": [
       "{'labels': tensor([[18, 20],\n",
       "         [14, 21],\n",
       "         [ 8,  9],\n",
       "         [ 4,  7],\n",
       "         [11, 13],\n",
       "         [ 4, 25],\n",
       "         [ 4, 14],\n",
       "         [ 9,  9],\n",
       "         [ 4, 29],\n",
       "         [ 4, 27],\n",
       "         [ 4, 33],\n",
       "         [ 4, 28],\n",
       "         [ 4, 25],\n",
       "         [ 4,  4],\n",
       "         [12, 13],\n",
       "         [ 4, 11]]),\n",
       " 'text_ids': tensor([[    0,  1313,     2,     2,   160,   173,    11,   457,    41,  1946,\n",
       "              4,   562,    41,   475,  1069,    71,    14,     4,  1423,   857,\n",
       "            162,     2,     1,     1,     1,     1,     1,     1,     1,     1,\n",
       "              1,     1,     1,     1,     1],\n",
       "         [    0,  1313,     2,     2,  4832,  1372,   985, 12905,    29,   183,\n",
       "              7,   127,   985,     4,  3392,    47,    13,   145,   215,    41,\n",
       "           6344,   985,     2,     1,     1,     1,     1,     1,     1,     1,\n",
       "              1,     1,     1,     1,     1],\n",
       "         [    0,  1313,     2,     2,   181,  1193,   298,     4,  2446,     4,\n",
       "              2,     1,     1,     1,     1,     1,     1,     1,     1,     1,\n",
       "              1,     1,     1,     1,     1,     1,     1,     1,     1,     1,\n",
       "              1,     1,     1,     1,     1],\n",
       "         [    0,  7974,     2,     2,  9316,  9512,  2767, 31095,     2,     1,\n",
       "              1,     1,     1,     1,     1,     1,     1,     1,     1,     1,\n",
       "              1,     1,     1,     1,     1,     1,     1,     1,     1,     1,\n",
       "              1,     1,     1,     1,     1],\n",
       "         [    0,  1313,     2,     2,  1423,   857,     7,   145,  4603,  3743,\n",
       "            328,   157,   626,     4,     2,     1,     1,     1,     1,     1,\n",
       "              1,     1,     1,     1,     1,     1,     1,     1,     1,     1,\n",
       "              1,     1,     1,     1,     1],\n",
       "         [    0,  1313,     2,     2,   439,     7,   192,   128,   658,  2652,\n",
       "             24,    21,    10,   269,   205,  1569,    14, 16427,    23,     5,\n",
       "           1144, 22052,   939,  2200,  5940,    24,     2,     1,     1,     1,\n",
       "              1,     1,     1,     1,     1],\n",
       "         [    0,  7974,     2,     2,   939, 13356,    62,     8,   127,  1368,\n",
       "          31974,  4489,   376,   124,   328,     2,     1,     1,     1,     1,\n",
       "              1,     1,     1,     1,     1,     1,     1,     1,     1,     1,\n",
       "              1,     1,     1,     1,     1],\n",
       "         [    0,  2430,     2,     2, 29629,   328,   147,   116,   939,  4157,\n",
       "          29629,    29,     2,     1,     1,     1,     1,     1,     1,     1,\n",
       "              1,     1,     1,     1,     1,     1,     1,     1,     1,     1,\n",
       "              1,     1,     1,     1,     1],\n",
       "         [    0,  7974,     2,     2,  2489,   298,   895,  1999, 29784,  1528,\n",
       "             14,   328,   939,   460,  2145,   127,   741,   417,    53,   939,\n",
       "             64,   393,  2145,    99,  1248,    50,   190,   183,    24,    16,\n",
       "              2,     1,     1,     1,     1],\n",
       "         [    0,  7974,     2,     2,   295,  9877,   938, 12905,    90, 27537,\n",
       "             23,    70,     4,  2128,   939,   206,     9,    47,    25,  6693,\n",
       "            821,  7198,    36, 37460,    39,   878,   107,   322,     2,     1,\n",
       "              1,     1,     1,     1,     1],\n",
       "         [    0,  7974,     2,     2,   127,  4252,    56,     7, 24569, 15157,\n",
       "            411,   688,   536,     4,    79,  1059,    39,    71,   939,   314,\n",
       "             13,  1564, 31925,   107,   536,     4,   251,    86,     7,    33,\n",
       "             10,   449, 18308,     4,     2],\n",
       "         [    0,  7974,     2,     2,   787,  1215,   808,  2389,  1646,   157,\n",
       "           4420, 29784, 29942,   939,    56,    10,  7359,    19,   106,   656,\n",
       "           2156,    89,    95,    45,  2882,     7,  1532,   932,  1493,     2,\n",
       "              1,     1,     1,     1,     1],\n",
       "         [    0,  7974,     2,     2,  4356,   184,   328,   569,  1071,    23,\n",
       "           1531,   958,  7586,  1423,  2981,   328,   300, 16277,     9,  3308,\n",
       "            328,   295,   219, 43555, 11695,   328,     2,     1,     1,     1,\n",
       "              1,     1,     1,     1,     1],\n",
       "         [    0,  1313,     2,     2,   189,     5,   204,   212,    28,    19,\n",
       "             47,    70,     2,     1,     1,     1,     1,     1,     1,     1,\n",
       "              1,     1,     1,     1,     1,     1,     1,     1,     1,     1,\n",
       "              1,     1,     1,     1,     1],\n",
       "         [    0,  2430,     2,     2,  1159,    40,    45,  3529, 13153,    98,\n",
       "             51,   562, 37968,  3275,   129, 13153,    13,   162,     8,   475,\n",
       "            338,    64,   146,    39, 13629,   308,     2,     1,     1,     1,\n",
       "              1,     1,     1,     1,     1],\n",
       "         [    0,  7974,     2,     2,  1423, 40386, 41242, 42648,    99,    62,\n",
       "          18779, 17516,     2,     1,     1,     1,     1,     1,     1,     1,\n",
       "              1,     1,     1,     1,     1,     1,     1,     1,     1,     1,\n",
       "              1,     1,     1,     1,     1]]),\n",
       " 'text_mask': tensor([[1, 1, 1, 1, 1, 1, 1, 1, 1, 1, 1, 1, 1, 1, 1, 1, 1, 1, 1, 1, 1, 1, 0, 0,\n",
       "          0, 0, 0, 0, 0, 0, 0, 0, 0, 0, 0],\n",
       "         [1, 1, 1, 1, 1, 1, 1, 1, 1, 1, 1, 1, 1, 1, 1, 1, 1, 1, 1, 1, 1, 1, 1, 0,\n",
       "          0, 0, 0, 0, 0, 0, 0, 0, 0, 0, 0],\n",
       "         [1, 1, 1, 1, 1, 1, 1, 1, 1, 1, 1, 0, 0, 0, 0, 0, 0, 0, 0, 0, 0, 0, 0, 0,\n",
       "          0, 0, 0, 0, 0, 0, 0, 0, 0, 0, 0],\n",
       "         [1, 1, 1, 1, 1, 1, 1, 1, 1, 0, 0, 0, 0, 0, 0, 0, 0, 0, 0, 0, 0, 0, 0, 0,\n",
       "          0, 0, 0, 0, 0, 0, 0, 0, 0, 0, 0],\n",
       "         [1, 1, 1, 1, 1, 1, 1, 1, 1, 1, 1, 1, 1, 1, 1, 0, 0, 0, 0, 0, 0, 0, 0, 0,\n",
       "          0, 0, 0, 0, 0, 0, 0, 0, 0, 0, 0],\n",
       "         [1, 1, 1, 1, 1, 1, 1, 1, 1, 1, 1, 1, 1, 1, 1, 1, 1, 1, 1, 1, 1, 1, 1, 1,\n",
       "          1, 1, 1, 0, 0, 0, 0, 0, 0, 0, 0],\n",
       "         [1, 1, 1, 1, 1, 1, 1, 1, 1, 1, 1, 1, 1, 1, 1, 1, 0, 0, 0, 0, 0, 0, 0, 0,\n",
       "          0, 0, 0, 0, 0, 0, 0, 0, 0, 0, 0],\n",
       "         [1, 1, 1, 1, 1, 1, 1, 1, 1, 1, 1, 1, 1, 0, 0, 0, 0, 0, 0, 0, 0, 0, 0, 0,\n",
       "          0, 0, 0, 0, 0, 0, 0, 0, 0, 0, 0],\n",
       "         [1, 1, 1, 1, 1, 1, 1, 1, 1, 1, 1, 1, 1, 1, 1, 1, 1, 1, 1, 1, 1, 1, 1, 1,\n",
       "          1, 1, 1, 1, 1, 1, 1, 0, 0, 0, 0],\n",
       "         [1, 1, 1, 1, 1, 1, 1, 1, 1, 1, 1, 1, 1, 1, 1, 1, 1, 1, 1, 1, 1, 1, 1, 1,\n",
       "          1, 1, 1, 1, 1, 0, 0, 0, 0, 0, 0],\n",
       "         [1, 1, 1, 1, 1, 1, 1, 1, 1, 1, 1, 1, 1, 1, 1, 1, 1, 1, 1, 1, 1, 1, 1, 1,\n",
       "          1, 1, 1, 1, 1, 1, 1, 1, 1, 1, 1],\n",
       "         [1, 1, 1, 1, 1, 1, 1, 1, 1, 1, 1, 1, 1, 1, 1, 1, 1, 1, 1, 1, 1, 1, 1, 1,\n",
       "          1, 1, 1, 1, 1, 1, 0, 0, 0, 0, 0],\n",
       "         [1, 1, 1, 1, 1, 1, 1, 1, 1, 1, 1, 1, 1, 1, 1, 1, 1, 1, 1, 1, 1, 1, 1, 1,\n",
       "          1, 1, 1, 0, 0, 0, 0, 0, 0, 0, 0],\n",
       "         [1, 1, 1, 1, 1, 1, 1, 1, 1, 1, 1, 1, 1, 0, 0, 0, 0, 0, 0, 0, 0, 0, 0, 0,\n",
       "          0, 0, 0, 0, 0, 0, 0, 0, 0, 0, 0],\n",
       "         [1, 1, 1, 1, 1, 1, 1, 1, 1, 1, 1, 1, 1, 1, 1, 1, 1, 1, 1, 1, 1, 1, 1, 1,\n",
       "          1, 1, 1, 0, 0, 0, 0, 0, 0, 0, 0],\n",
       "         [1, 1, 1, 1, 1, 1, 1, 1, 1, 1, 1, 1, 1, 0, 0, 0, 0, 0, 0, 0, 0, 0, 0, 0,\n",
       "          0, 0, 0, 0, 0, 0, 0, 0, 0, 0, 0]]),\n",
       " 'type_ids': tensor([[0, 0, 0, 1, 1, 1, 1, 1, 1, 1, 1, 1, 1, 1, 1, 1, 1, 1, 1, 1, 1, 1, 1, 1,\n",
       "          1, 1, 1, 1, 1, 1, 1, 1, 1, 1, 1],\n",
       "         [0, 0, 0, 1, 1, 1, 1, 1, 1, 1, 1, 1, 1, 1, 1, 1, 1, 1, 1, 1, 1, 1, 1, 1,\n",
       "          1, 1, 1, 1, 1, 1, 1, 1, 1, 1, 1],\n",
       "         [0, 0, 0, 1, 1, 1, 1, 1, 1, 1, 1, 1, 1, 1, 1, 1, 1, 1, 1, 1, 1, 1, 1, 1,\n",
       "          1, 1, 1, 1, 1, 1, 1, 1, 1, 1, 1],\n",
       "         [0, 0, 0, 1, 1, 1, 1, 1, 1, 1, 1, 1, 1, 1, 1, 1, 1, 1, 1, 1, 1, 1, 1, 1,\n",
       "          1, 1, 1, 1, 1, 1, 1, 1, 1, 1, 1],\n",
       "         [0, 0, 0, 1, 1, 1, 1, 1, 1, 1, 1, 1, 1, 1, 1, 1, 1, 1, 1, 1, 1, 1, 1, 1,\n",
       "          1, 1, 1, 1, 1, 1, 1, 1, 1, 1, 1],\n",
       "         [0, 0, 0, 1, 1, 1, 1, 1, 1, 1, 1, 1, 1, 1, 1, 1, 1, 1, 1, 1, 1, 1, 1, 1,\n",
       "          1, 1, 1, 1, 1, 1, 1, 1, 1, 1, 1],\n",
       "         [0, 0, 0, 1, 1, 1, 1, 1, 1, 1, 1, 1, 1, 1, 1, 1, 1, 1, 1, 1, 1, 1, 1, 1,\n",
       "          1, 1, 1, 1, 1, 1, 1, 1, 1, 1, 1],\n",
       "         [0, 0, 0, 1, 1, 1, 1, 1, 1, 1, 1, 1, 1, 1, 1, 1, 1, 1, 1, 1, 1, 1, 1, 1,\n",
       "          1, 1, 1, 1, 1, 1, 1, 1, 1, 1, 1],\n",
       "         [0, 0, 0, 1, 1, 1, 1, 1, 1, 1, 1, 1, 1, 1, 1, 1, 1, 1, 1, 1, 1, 1, 1, 1,\n",
       "          1, 1, 1, 1, 1, 1, 1, 1, 1, 1, 1],\n",
       "         [0, 0, 0, 1, 1, 1, 1, 1, 1, 1, 1, 1, 1, 1, 1, 1, 1, 1, 1, 1, 1, 1, 1, 1,\n",
       "          1, 1, 1, 1, 1, 1, 1, 1, 1, 1, 1],\n",
       "         [0, 0, 0, 1, 1, 1, 1, 1, 1, 1, 1, 1, 1, 1, 1, 1, 1, 1, 1, 1, 1, 1, 1, 1,\n",
       "          1, 1, 1, 1, 1, 1, 1, 1, 1, 1, 1],\n",
       "         [0, 0, 0, 1, 1, 1, 1, 1, 1, 1, 1, 1, 1, 1, 1, 1, 1, 1, 1, 1, 1, 1, 1, 1,\n",
       "          1, 1, 1, 1, 1, 1, 1, 1, 1, 1, 1],\n",
       "         [0, 0, 0, 1, 1, 1, 1, 1, 1, 1, 1, 1, 1, 1, 1, 1, 1, 1, 1, 1, 1, 1, 1, 1,\n",
       "          1, 1, 1, 1, 1, 1, 1, 1, 1, 1, 1],\n",
       "         [0, 0, 0, 1, 1, 1, 1, 1, 1, 1, 1, 1, 1, 1, 1, 1, 1, 1, 1, 1, 1, 1, 1, 1,\n",
       "          1, 1, 1, 1, 1, 1, 1, 1, 1, 1, 1],\n",
       "         [0, 0, 0, 1, 1, 1, 1, 1, 1, 1, 1, 1, 1, 1, 1, 1, 1, 1, 1, 1, 1, 1, 1, 1,\n",
       "          1, 1, 1, 1, 1, 1, 1, 1, 1, 1, 1],\n",
       "         [0, 0, 0, 1, 1, 1, 1, 1, 1, 1, 1, 1, 1, 1, 1, 1, 1, 1, 1, 1, 1, 1, 1, 1,\n",
       "          1, 1, 1, 1, 1, 1, 1, 1, 1, 1, 1]]),\n",
       " 'selected_text': [' yay me',\n",
       "  ' thank you for being such an awesome mother',\n",
       "  ' thanks.',\n",
       "  ' squashed foot ****',\n",
       "  ' well done.',\n",
       "  \" went to see 'up'. it was a really good movie that pulls at the heart strings i highly recommend it\",\n",
       "  ' i woke up and my hiccups came back!',\n",
       "  ' hate',\n",
       "  ' hahahha lol true that! i always remember my bd but i can never remember what date or even day it is',\n",
       "  ' nope wasn`t kidding at all. sometimes i think of you as forest gump (during his running years).',\n",
       "  ' my dad had to bury ours six weeks ago. she became his after i left for college fourteen years ago. long time to have a kitty.',\n",
       "  ' @_idance19 well yes lol .. i had a chat with them earlier , there just not willing to learn anything else',\n",
       "  ' im home! videoke at funtime.. yey! got loads of tickets! nyahahaha!',\n",
       "  ' may',\n",
       "  ' crisps',\n",
       "  ' yooooooo!? what up mates?!'],\n",
       " 'textID': ['91f408f6f0',\n",
       "  '9daf95b109',\n",
       "  '1bcdbbef14',\n",
       "  'dc76e62898',\n",
       "  '7a34724822',\n",
       "  'da6fe31755',\n",
       "  'bddfc3ed86',\n",
       "  'f639b38fd7',\n",
       "  'f5b15be6f6',\n",
       "  'c93060ce1d',\n",
       "  'a0f4670541',\n",
       "  '77c6e56856',\n",
       "  'b9128c675a',\n",
       "  '4691fdfad6',\n",
       "  '0c57b47f8b',\n",
       "  '6cb26d0d5e']}"
      ]
     },
     "execution_count": 73,
     "metadata": {},
     "output_type": "execute_result"
    }
   ],
   "source": [
    "test_batch"
   ]
  },
  {
   "cell_type": "markdown",
   "metadata": {},
   "source": [
    " "
   ]
  },
  {
   "cell_type": "markdown",
   "metadata": {},
   "source": [
    "#### Validate"
   ]
  },
  {
   "cell_type": "code",
   "execution_count": 74,
   "metadata": {
    "ExecuteTime": {
     "end_time": "2020-06-06T12:21:29.700122Z",
     "start_time": "2020-06-06T12:21:29.697184Z"
    }
   },
   "outputs": [],
   "source": [
    "def jaccard(str1, str2): \n",
    "    a = set(str1.lower().split()) \n",
    "    b = set(str2.lower().split())\n",
    "    c = a.intersection(b)\n",
    "    \n",
    "    return float(len(c)) / (len(a) + len(b) - len(c))"
   ]
  },
  {
   "cell_type": "code",
   "execution_count": 75,
   "metadata": {
    "ExecuteTime": {
     "end_time": "2020-06-06T12:21:29.706477Z",
     "start_time": "2020-06-06T12:21:29.701290Z"
    }
   },
   "outputs": [],
   "source": [
    "def get_pred_text(pred, batch, tokenizer):\n",
    "    return tokenizer.batch_decode(\n",
    "            [batch['text_ids'][i][pred[i][0] : pred[i][1] + 1] \n",
    "             for i in range(len(pred))],\n",
    "            skip_special_tokens=True,\n",
    "            clean_up_tokenization_spaces=True\n",
    "        )"
   ]
  },
  {
   "cell_type": "code",
   "execution_count": 76,
   "metadata": {
    "ExecuteTime": {
     "end_time": "2020-06-06T12:21:29.713288Z",
     "start_time": "2020-06-06T12:21:29.707644Z"
    }
   },
   "outputs": [],
   "source": [
    "def jaccard_on_batch(model, batch, tokenizer, special_ids=None):\n",
    "    pred = predict_on_batch(model, batch, special_ids)\n",
    "    true_answers = batch['selected_text']\n",
    "    pred_answers = get_pred_text(pred, batch, tokenizer)\n",
    "    jaccards = [\n",
    "        jaccard(pred, true) \n",
    "        for (pred, true)\n",
    "        in zip(pred_answers, true_answers)\n",
    "    ]\n",
    "        \n",
    "    return np.mean(jaccards)"
   ]
  },
  {
   "cell_type": "code",
   "execution_count": 77,
   "metadata": {
    "ExecuteTime": {
     "end_time": "2020-06-06T12:21:30.168915Z",
     "start_time": "2020-06-06T12:21:29.714335Z"
    }
   },
   "outputs": [
    {
     "data": {
      "text/plain": [
       "0.6320022475393319"
      ]
     },
     "execution_count": 77,
     "metadata": {},
     "output_type": "execute_result"
    }
   ],
   "source": [
    "jaccard_on_batch(test_model, test_batch, tokenizer, tokenizer.all_special_ids + SENT_IDS)"
   ]
  },
  {
   "cell_type": "markdown",
   "metadata": {},
   "source": [
    " "
   ]
  },
  {
   "cell_type": "markdown",
   "metadata": {},
   "source": [
    "### Trainer class"
   ]
  },
  {
   "cell_type": "code",
   "execution_count": 78,
   "metadata": {
    "ExecuteTime": {
     "end_time": "2020-06-06T12:21:30.172472Z",
     "start_time": "2020-06-06T12:21:30.169931Z"
    }
   },
   "outputs": [],
   "source": [
    "def np_finite_mean(x):\n",
    "    if not isinstance(x, np.ndarray):\n",
    "        x = np.array(x)\n",
    "    return np.mean(x[x != float('inf')])"
   ]
  },
  {
   "cell_type": "code",
   "execution_count": 79,
   "metadata": {
    "ExecuteTime": {
     "end_time": "2020-06-06T12:21:30.201273Z",
     "start_time": "2020-06-06T12:21:30.173548Z"
    }
   },
   "outputs": [],
   "source": [
    "class Trainer:\n",
    "    def __init__(self, model, criterion, optimizer, tokenizer, scheduler=None, \n",
    "                 device='cuda', sent_ids=SENT_IDS):\n",
    "        self.device = device\n",
    "        self.model = model.to(self.device)\n",
    "        self.criterion = criterion\n",
    "        self.optimizer = optimizer\n",
    "        self.tokenizer = tokenizer\n",
    "        self.scheduler = scheduler\n",
    "        self.sent_ids = sent_ids\n",
    "        self.train_losses = []\n",
    "        self.train_jaccards = []\n",
    "        self.val_losses = []\n",
    "        self.val_jaccards = []\n",
    "        self.epochs = 0\n",
    "        \n",
    "    def train_epoch(self, loader, rep_freq):\n",
    "        print('.' * 50)\n",
    "        \n",
    "        batch_losses = []\n",
    "        batch_jaccards = []\n",
    "        running_loss = 0.0\n",
    "        running_jaccard = 0.0\n",
    "        self.epochs += 1\n",
    "        \n",
    "        for b_num, batch in enumerate(loader):\n",
    "            batch_start = time.time()\n",
    "            batch = batch_to_device(batch, self.device)\n",
    "            \n",
    "            mean_batch_loss = train_on_batch(\n",
    "                model=self.model,\n",
    "                criterion=self.criterion,\n",
    "                optimizer=self.optimizer,\n",
    "                batch=batch,\n",
    "                scheduler=self.scheduler,\n",
    "                special_ids=self.tokenizer.all_special_ids + self.sent_ids\n",
    "            )\n",
    "            \n",
    "            mean_batch_jaccard = jaccard_on_batch(\n",
    "                model=self.model,\n",
    "                batch=batch,\n",
    "                tokenizer=tokenizer,\n",
    "                special_ids=self.tokenizer.all_special_ids + self.sent_ids\n",
    "            )\n",
    "            \n",
    "            batch_losses.append(mean_batch_loss.to('cpu').detach().numpy())\n",
    "            batch_jaccards.append(mean_batch_jaccard)\n",
    "            \n",
    "            running_loss += mean_batch_loss\n",
    "            running_jaccard += mean_batch_jaccard\n",
    "\n",
    "            if (b_num + 1) % rep_freq == 0:\n",
    "                mask = 'Batch {} done in {:.0f} ms | running loss: {:.4f} | running jaccard: {:.4f}'\n",
    "                print(\n",
    "                    mask.format(\n",
    "                        b_num + 1, \n",
    "                        (time.time() - batch_start) * 1000, \n",
    "                        running_loss / rep_freq,\n",
    "                        running_jaccard / rep_freq,\n",
    "                ))\n",
    "                running_loss = 0\n",
    "                running_jaccard = 0\n",
    "                \n",
    "        print('.' * 50 + '\\n')\n",
    "                \n",
    "        return batch_losses, batch_jaccards\n",
    "    \n",
    "    def validate(self, loader):\n",
    "        batch_losses = []\n",
    "        batch_jaccards = []\n",
    "        \n",
    "        with torch.no_grad():\n",
    "            for batch in iter(loader):\n",
    "                batch = batch_to_device(batch, self.device)\n",
    "                \n",
    "                mean_batch_loss = get_batch_loss(\n",
    "                    model=self.model,\n",
    "                    criterion=self.criterion,\n",
    "                    optimizer=self.optimizer,\n",
    "                    batch=batch,\n",
    "                    special_ids=self.tokenizer.all_special_ids + self.sent_ids\n",
    "                )\n",
    "                \n",
    "                mean_batch_jaccard = jaccard_on_batch(\n",
    "                    model=self.model,\n",
    "                    batch=batch,\n",
    "                    tokenizer=tokenizer,\n",
    "                    special_ids=self.tokenizer.all_special_ids + self.sent_ids\n",
    "                )\n",
    "\n",
    "                batch_losses.append(mean_batch_loss.to('cpu').detach().numpy())\n",
    "                batch_jaccards.append(mean_batch_jaccard)\n",
    "                \n",
    "        return batch_losses, batch_jaccards\n",
    "        \n",
    "    def train(self, num_epochs, train_loader, val_loader, rep_freq=20):\n",
    "        time_start = time.time()\n",
    "        for e_num in range(num_epochs):\n",
    "            epoch_start = time.time()\n",
    "            print('=' * 50 + '\\n')\n",
    "            print('Epoch {} of {} started\\n'.format(e_num + 1, num_epochs))\n",
    "            \n",
    "            train_batch_losses, train_batch_jaccards = self.train_epoch(train_loader, rep_freq)\n",
    "            self.train_losses.append(train_batch_losses)\n",
    "            self.train_jaccards.append(train_batch_jaccards)\n",
    "            \n",
    "            print('Validating...\\n')\n",
    "            \n",
    "            val_batch_losses, val_batch_jaccards = self.validate(val_loader)\n",
    "            self.val_losses.append(val_batch_losses)\n",
    "            self.val_jaccards.append(val_batch_jaccards)\n",
    "            \n",
    "            print('Epoch {} of {} finished in {:.0f} s'.format(\n",
    "                e_num + 1, num_epochs, time.time() - epoch_start\n",
    "            ))\n",
    "            print('Mean epoch training loss: {:.4f}'.format(np_finite_mean(train_batch_losses)))\n",
    "            print('Mean epoch validation loss: {:.4f}'.format(np_finite_mean(val_batch_losses)))\n",
    "            print('Mean epoch training jaccard: {:.4f}'.format(np_finite_mean(train_batch_jaccards)))\n",
    "            print('Mean epoch validation jaccard: {:.4f}\\n'.format(np_finite_mean(val_batch_jaccards)))\n",
    "            print('=' * 50 + '\\n')\n",
    "        print('Total elapsed time: {:.0f} s\\n'.format(time.time() - time_start))\n",
    "        print('=' * 50 + '\\n')"
   ]
  },
  {
   "cell_type": "markdown",
   "metadata": {},
   "source": [
    " "
   ]
  },
  {
   "cell_type": "markdown",
   "metadata": {},
   "source": [
    "***"
   ]
  },
  {
   "cell_type": "markdown",
   "metadata": {},
   "source": [
    "## Experiments"
   ]
  },
  {
   "cell_type": "code",
   "execution_count": 80,
   "metadata": {
    "ExecuteTime": {
     "end_time": "2020-06-06T12:21:30.209980Z",
     "start_time": "2020-06-06T12:21:30.202483Z"
    }
   },
   "outputs": [],
   "source": [
    "from transformers import AdamW, get_linear_schedule_with_warmup"
   ]
  },
  {
   "cell_type": "code",
   "execution_count": 81,
   "metadata": {
    "ExecuteTime": {
     "end_time": "2020-06-06T12:21:30.216712Z",
     "start_time": "2020-06-06T12:21:30.211198Z"
    }
   },
   "outputs": [],
   "source": [
    "NUM_EPOCHS = 4\n",
    "REP_FREQ = 200"
   ]
  },
  {
   "cell_type": "code",
   "execution_count": 82,
   "metadata": {
    "ExecuteTime": {
     "end_time": "2020-06-06T12:21:30.224245Z",
     "start_time": "2020-06-06T12:21:30.217860Z"
    }
   },
   "outputs": [],
   "source": [
    "DROP = 0.5"
   ]
  },
  {
   "cell_type": "code",
   "execution_count": 83,
   "metadata": {
    "ExecuteTime": {
     "end_time": "2020-06-06T12:21:30.232916Z",
     "start_time": "2020-06-06T12:21:30.226796Z"
    }
   },
   "outputs": [],
   "source": [
    "model = RobertaBase(\n",
    "    pretrained=roberta,\n",
    "    drop=DROP\n",
    ")"
   ]
  },
  {
   "cell_type": "code",
   "execution_count": 84,
   "metadata": {
    "ExecuteTime": {
     "end_time": "2020-06-06T12:21:30.240404Z",
     "start_time": "2020-06-06T12:21:30.235314Z"
    }
   },
   "outputs": [],
   "source": [
    "criterion = nn.CrossEntropyLoss(reduction='mean')"
   ]
  },
  {
   "cell_type": "code",
   "execution_count": 85,
   "metadata": {
    "ExecuteTime": {
     "end_time": "2020-06-06T12:21:30.248132Z",
     "start_time": "2020-06-06T12:21:30.241628Z"
    }
   },
   "outputs": [],
   "source": [
    "param_optimizer = list(model.named_parameters())\n",
    "no_decay = [\"bias\", \"LayerNorm.bias\", \"LayerNorm.weight\"]\n",
    "optimizer_parameters = [\n",
    "    {'params': [p for n, p in param_optimizer if not any(nd in n for nd in no_decay)], \n",
    "     'weight_decay': 0.001},\n",
    "    {'params': [p for n, p in param_optimizer if any(nd in n for nd in no_decay)], 'weight_decay': 0.0},\n",
    "]\n",
    "optimizer = AdamW(optimizer_parameters, lr=3e-5)"
   ]
  },
  {
   "cell_type": "code",
   "execution_count": 86,
   "metadata": {
    "ExecuteTime": {
     "end_time": "2020-06-06T12:21:30.257186Z",
     "start_time": "2020-06-06T12:21:30.249210Z"
    }
   },
   "outputs": [],
   "source": [
    "scheduler = get_linear_schedule_with_warmup(\n",
    "    optimizer=optimizer,\n",
    "    num_warmup_steps=0,\n",
    "    num_training_steps=int(len(train_dataset) / BATCH_SIZE * NUM_EPOCHS)\n",
    ")"
   ]
  },
  {
   "cell_type": "code",
   "execution_count": 87,
   "metadata": {
    "ExecuteTime": {
     "end_time": "2020-06-06T12:21:32.392192Z",
     "start_time": "2020-06-06T12:21:30.258120Z"
    }
   },
   "outputs": [],
   "source": [
    "trainer = Trainer(\n",
    "    model=model, \n",
    "    criterion=criterion,\n",
    "    optimizer=optimizer,\n",
    "    tokenizer=tokenizer,\n",
    "    scheduler=scheduler,\n",
    "    device='cuda',\n",
    ")"
   ]
  },
  {
   "cell_type": "code",
   "execution_count": 88,
   "metadata": {
    "ExecuteTime": {
     "end_time": "2020-06-06T12:48:49.028682Z",
     "start_time": "2020-06-06T12:21:32.393276Z"
    },
    "scrolled": false
   },
   "outputs": [
    {
     "name": "stdout",
     "output_type": "stream",
     "text": [
      "==================================================\n",
      "\n",
      "Epoch 1 of 4 started\n",
      "\n",
      "..................................................\n",
      "Batch 200 done in 279 ms | running loss: 2.7517 | running jaccard: 0.6384\n",
      "Batch 400 done in 257 ms | running loss: 1.8578 | running jaccard: 0.6976\n",
      "Batch 600 done in 280 ms | running loss: 1.6878 | running jaccard: 0.7123\n",
      "Batch 800 done in 257 ms | running loss: inf | running jaccard: 0.7358\n",
      "Batch 1000 done in 249 ms | running loss: inf | running jaccard: 0.7271\n",
      "Batch 1200 done in 244 ms | running loss: inf | running jaccard: 0.7419\n",
      "Batch 1400 done in 243 ms | running loss: inf | running jaccard: 0.7260\n",
      "..................................................\n",
      "\n",
      "Validating...\n",
      "\n",
      "Epoch 1 of 4 finished in 409 s\n",
      "Mean epoch training loss: 1.7663\n",
      "Mean epoch validation loss: 1.4456\n",
      "Mean epoch training jaccard: 0.7113\n",
      "Mean epoch validation jaccard: 0.7172\n",
      "\n",
      "==================================================\n",
      "\n",
      "==================================================\n",
      "\n",
      "Epoch 2 of 4 started\n",
      "\n",
      "..................................................\n",
      "Batch 200 done in 230 ms | running loss: inf | running jaccard: 0.7581\n",
      "Batch 400 done in 280 ms | running loss: inf | running jaccard: 0.7697\n",
      "Batch 600 done in 264 ms | running loss: 1.3706 | running jaccard: 0.7538\n",
      "Batch 800 done in 277 ms | running loss: inf | running jaccard: 0.7582\n",
      "Batch 1000 done in 286 ms | running loss: 1.3140 | running jaccard: 0.7588\n",
      "Batch 1200 done in 280 ms | running loss: inf | running jaccard: 0.7556\n",
      "Batch 1400 done in 238 ms | running loss: inf | running jaccard: 0.7564\n",
      "..................................................\n",
      "\n",
      "Validating...\n",
      "\n",
      "Epoch 2 of 4 finished in 409 s\n",
      "Mean epoch training loss: 1.3436\n",
      "Mean epoch validation loss: 1.3727\n",
      "Mean epoch training jaccard: 0.7587\n",
      "Mean epoch validation jaccard: 0.7380\n",
      "\n",
      "==================================================\n",
      "\n",
      "==================================================\n",
      "\n",
      "Epoch 3 of 4 started\n",
      "\n",
      "..................................................\n",
      "Batch 200 done in 278 ms | running loss: inf | running jaccard: 0.7802\n",
      "Batch 400 done in 285 ms | running loss: 1.2142 | running jaccard: 0.7760\n",
      "Batch 600 done in 294 ms | running loss: inf | running jaccard: 0.7914\n",
      "Batch 800 done in 262 ms | running loss: 1.2130 | running jaccard: 0.7744\n",
      "Batch 1000 done in 239 ms | running loss: 1.1916 | running jaccard: 0.7833\n",
      "Batch 1200 done in 256 ms | running loss: inf | running jaccard: 0.7835\n",
      "Batch 1400 done in 236 ms | running loss: inf | running jaccard: 0.7849\n",
      "..................................................\n",
      "\n",
      "Validating...\n",
      "\n",
      "Epoch 3 of 4 finished in 409 s\n",
      "Mean epoch training loss: 1.1782\n",
      "Mean epoch validation loss: 1.4193\n",
      "Mean epoch training jaccard: 0.7820\n",
      "Mean epoch validation jaccard: 0.7411\n",
      "\n",
      "==================================================\n",
      "\n",
      "==================================================\n",
      "\n",
      "Epoch 4 of 4 started\n",
      "\n",
      "..................................................\n",
      "Batch 200 done in 280 ms | running loss: 1.0566 | running jaccard: 0.8027\n",
      "Batch 400 done in 284 ms | running loss: inf | running jaccard: 0.8120\n",
      "Batch 600 done in 243 ms | running loss: inf | running jaccard: 0.7985\n",
      "Batch 800 done in 282 ms | running loss: 1.0549 | running jaccard: 0.8092\n",
      "Batch 1000 done in 254 ms | running loss: 1.0355 | running jaccard: 0.8083\n",
      "Batch 1200 done in 295 ms | running loss: 1.0040 | running jaccard: 0.8121\n",
      "Batch 1400 done in 244 ms | running loss: inf | running jaccard: 0.8006\n",
      "..................................................\n",
      "\n",
      "Validating...\n",
      "\n",
      "Epoch 4 of 4 finished in 409 s\n",
      "Mean epoch training loss: 1.0384\n",
      "Mean epoch validation loss: 1.4571\n",
      "Mean epoch training jaccard: 0.8062\n",
      "Mean epoch validation jaccard: 0.7372\n",
      "\n",
      "==================================================\n",
      "\n",
      "Total elapsed time: 1637 s\n",
      "\n",
      "==================================================\n",
      "\n"
     ]
    }
   ],
   "source": [
    "try:\n",
    "    trainer.train(\n",
    "        num_epochs=NUM_EPOCHS,\n",
    "        train_loader=train_loader,\n",
    "        val_loader=val_loader,\n",
    "        rep_freq=REP_FREQ\n",
    "    )\n",
    "except KeyboardInterrupt:\n",
    "    print('Traning interrupted')"
   ]
  },
  {
   "cell_type": "markdown",
   "metadata": {},
   "source": [
    "  "
   ]
  },
  {
   "cell_type": "code",
   "execution_count": 89,
   "metadata": {
    "ExecuteTime": {
     "end_time": "2020-06-06T12:48:49.034857Z",
     "start_time": "2020-06-06T12:48:49.029961Z"
    }
   },
   "outputs": [],
   "source": [
    "train_losses = list(map(np_finite_mean, trainer.train_losses))\n",
    "val_losses = list(map(np_finite_mean, trainer.val_losses))\n",
    "train_jaccards = list(map(np_finite_mean, trainer.train_jaccards))\n",
    "val_jaccards = list(map(np_finite_mean, trainer.val_jaccards))"
   ]
  },
  {
   "cell_type": "code",
   "execution_count": 90,
   "metadata": {
    "ExecuteTime": {
     "end_time": "2020-06-06T12:48:49.177450Z",
     "start_time": "2020-06-06T12:48:49.036129Z"
    },
    "scrolled": false
   },
   "outputs": [
    {
     "data": {
      "image/png": "[encoded data removed]",
      "text/plain": [
       "<Figure size 1080x432 with 1 Axes>"
      ]
     },
     "metadata": {
      "needs_background": "light"
     },
     "output_type": "display_data"
    }
   ],
   "source": [
    "fig, ax = plt.subplots(figsize=(15, 6))\n",
    "ax.plot(train_losses, c='blue', label='train loss')\n",
    "ax.plot(val_losses, c='red', label='val loss')\n",
    "ax.set_xticks(range(NUM_EPOCHS), minor=False)\n",
    "ax.set_xlabel('Epoch')\n",
    "ax.set_ylabel('Mean CrossEntropyLoss')\n",
    "ax.set_title('Learning curves: loss');"
   ]
  },
  {
   "cell_type": "code",
   "execution_count": 91,
   "metadata": {
    "ExecuteTime": {
     "end_time": "2020-06-06T12:48:49.355563Z",
     "start_time": "2020-06-06T12:48:49.181099Z"
    },
    "scrolled": false
   },
   "outputs": [
    {
     "data": {
      "image/png": "[encoded data removed]",
      "text/plain": [
       "<Figure size 1080x432 with 1 Axes>"
      ]
     },
     "metadata": {
      "needs_background": "light"
     },
     "output_type": "display_data"
    }
   ],
   "source": [
    "fig, ax = plt.subplots(figsize=(15, 6))\n",
    "ax.plot(train_jaccards, c='navy', label='train jaccard')\n",
    "ax.plot(val_jaccards, c='orange', label='val jaccard')\n",
    "ax.set_xticks(range(NUM_EPOCHS), minor=False)\n",
    "ax.set_xlabel('Epoch')\n",
    "ax.set_ylabel('Mean Jaccard')\n",
    "ax.set_title('Learning curves: jaccard');"
   ]
  },
  {
   "cell_type": "markdown",
   "metadata": {},
   "source": [
    " "
   ]
  },
  {
   "cell_type": "markdown",
   "metadata": {},
   "source": [
    "## Save model"
   ]
  },
  {
   "cell_type": "code",
   "execution_count": 92,
   "metadata": {
    "ExecuteTime": {
     "end_time": "2020-06-06T12:48:49.362548Z",
     "start_time": "2020-06-06T12:48:49.359553Z"
    }
   },
   "outputs": [],
   "source": [
    "SAVE_MODEL_PATH = './data/baseline_roberta.pt'"
   ]
  },
  {
   "cell_type": "code",
   "execution_count": 93,
   "metadata": {
    "ExecuteTime": {
     "end_time": "2020-06-06T12:48:49.375036Z",
     "start_time": "2020-06-06T12:48:49.363743Z"
    }
   },
   "outputs": [],
   "source": [
    "# torch.save(model, SAVE_MODEL_PATH)"
   ]
  },
  {
   "cell_type": "markdown",
   "metadata": {},
   "source": [
    " "
   ]
  },
  {
   "cell_type": "markdown",
   "metadata": {},
   "source": [
    "## Prediction"
   ]
  },
  {
   "cell_type": "code",
   "execution_count": 94,
   "metadata": {
    "ExecuteTime": {
     "end_time": "2020-06-06T12:48:49.386786Z",
     "start_time": "2020-06-06T12:48:49.379921Z"
    }
   },
   "outputs": [],
   "source": [
    "test_dataset = TweetDataset(test)"
   ]
  },
  {
   "cell_type": "code",
   "execution_count": 95,
   "metadata": {
    "ExecuteTime": {
     "end_time": "2020-06-06T12:48:49.394978Z",
     "start_time": "2020-06-06T12:48:49.390638Z"
    }
   },
   "outputs": [],
   "source": [
    "test_loader = DataLoader(\n",
    "    test_dataset,\n",
    "    batch_size=BATCH_SIZE,\n",
    "    shuffle=False,\n",
    "    collate_fn=PaddingEncoder(tokenizer)\n",
    ")"
   ]
  },
  {
   "cell_type": "code",
   "execution_count": 96,
   "metadata": {
    "ExecuteTime": {
     "end_time": "2020-06-06T12:48:49.406781Z",
     "start_time": "2020-06-06T12:48:49.397639Z"
    }
   },
   "outputs": [],
   "source": [
    "def get_sub_df(model, test_loader, tokenizer, sent_ids=SENT_IDS, device='cuda'):\n",
    "    sub_df_parts = []\n",
    "    \n",
    "    for batch in iter(test_loader):\n",
    "        batch = batch_to_device(batch, device)\n",
    "        textID = batch['textID']\n",
    "        pred = predict_on_batch(model, batch, tokenizer.all_special_ids + sent_ids)\n",
    "        pred_text = get_pred_text(pred, batch, tokenizer)\n",
    "        df_part = pd.DataFrame({\n",
    "            'textID': textID,\n",
    "            'selected_text': pred_text\n",
    "        })\n",
    "        sub_df_parts.append(df_part)\n",
    "    \n",
    "    return pd.concat(sub_df_parts)"
   ]
  },
  {
   "cell_type": "code",
   "execution_count": 97,
   "metadata": {
    "ExecuteTime": {
     "end_time": "2020-06-06T12:49:03.406909Z",
     "start_time": "2020-06-06T12:48:49.409943Z"
    }
   },
   "outputs": [],
   "source": [
    "sub_df = get_sub_df(model.to('cuda'), test_loader, tokenizer)"
   ]
  },
  {
   "cell_type": "code",
   "execution_count": 98,
   "metadata": {
    "ExecuteTime": {
     "end_time": "2020-06-06T12:49:03.413813Z",
     "start_time": "2020-06-06T12:49:03.408240Z"
    }
   },
   "outputs": [
    {
     "data": {
      "text/html": [
       "<div>\n",
       "<style scoped>\n",
       "    .dataframe tbody tr th:only-of-type {\n",
       "        vertical-align: middle;\n",
       "    }\n",
       "\n",
       "    .dataframe tbody tr th {\n",
       "        vertical-align: top;\n",
       "    }\n",
       "\n",
       "    .dataframe thead th {\n",
       "        text-align: right;\n",
       "    }\n",
       "</style>\n",
       "<table border=\"1\" class=\"dataframe\">\n",
       "  <thead>\n",
       "    <tr style=\"text-align: right;\">\n",
       "      <th></th>\n",
       "      <th>textID</th>\n",
       "      <th>selected_text</th>\n",
       "    </tr>\n",
       "  </thead>\n",
       "  <tbody>\n",
       "    <tr>\n",
       "      <th>0</th>\n",
       "      <td>f87dea47db</td>\n",
       "      <td>last session of the day</td>\n",
       "    </tr>\n",
       "    <tr>\n",
       "      <th>1</th>\n",
       "      <td>96d74cb729</td>\n",
       "      <td>exciting</td>\n",
       "    </tr>\n",
       "    <tr>\n",
       "      <th>2</th>\n",
       "      <td>eee518ae67</td>\n",
       "      <td>such a shame!</td>\n",
       "    </tr>\n",
       "    <tr>\n",
       "      <th>3</th>\n",
       "      <td>01082688c6</td>\n",
       "      <td>happy bday!</td>\n",
       "    </tr>\n",
       "    <tr>\n",
       "      <th>4</th>\n",
       "      <td>33987a8ee5</td>\n",
       "      <td>i like it!!</td>\n",
       "    </tr>\n",
       "  </tbody>\n",
       "</table>\n",
       "</div>"
      ],
      "text/plain": [
       "       textID             selected_text\n",
       "0  f87dea47db   last session of the day\n",
       "1  96d74cb729                  exciting\n",
       "2  eee518ae67             such a shame!\n",
       "3  01082688c6               happy bday!\n",
       "4  33987a8ee5               i like it!!"
      ]
     },
     "execution_count": 98,
     "metadata": {},
     "output_type": "execute_result"
    }
   ],
   "source": [
    "sub_df.head()"
   ]
  },
  {
   "cell_type": "code",
   "execution_count": 99,
   "metadata": {
    "ExecuteTime": {
     "end_time": "2020-06-06T12:49:03.428974Z",
     "start_time": "2020-06-06T12:49:03.414954Z"
    }
   },
   "outputs": [
    {
     "data": {
      "text/plain": [
       "True"
      ]
     },
     "execution_count": 99,
     "metadata": {},
     "output_type": "execute_result"
    }
   ],
   "source": [
    "(sub_df.textID.values == test.textID.values).all()"
   ]
  },
  {
   "cell_type": "code",
   "execution_count": 1,
   "metadata": {
    "ExecuteTime": {
     "end_time": "2020-06-06T13:27:07.225197Z",
     "start_time": "2020-06-06T13:27:07.220261Z"
    }
   },
   "outputs": [],
   "source": [
    "# sub_df.to_csv('submission.csv')"
   ]
  }
 ],
 "metadata": {
  "kernelspec": {
   "display_name": "Python [conda env:nlp2020] *",
   "language": "python",
   "name": "conda-env-nlp2020-py"
  },
  "language_info": {
   "codemirror_mode": {
    "name": "ipython",
    "version": 3
   },
   "file_extension": ".py",
   "mimetype": "text/x-python",
   "name": "python",
   "nbconvert_exporter": "python",
   "pygments_lexer": "ipython3",
   "version": "3.7.7"
  },
  "toc": {
   "base_numbering": "0",
   "nav_menu": {},
   "number_sections": true,
   "sideBar": true,
   "skip_h1_title": true,
   "title_cell": "Table of Contents",
   "title_sidebar": "Contents",
   "toc_cell": false,
   "toc_position": {
    "height": "calc(100% - 180px)",
    "left": "10px",
    "top": "150px",
    "width": "319px"
   },
   "toc_section_display": true,
   "toc_window_display": true
  }
 },
 "nbformat": 4,
 "nbformat_minor": 4
}
